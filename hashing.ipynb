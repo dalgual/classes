{
  "nbformat": 4,
  "nbformat_minor": 0,
  "metadata": {
    "colab": {
      "name": "hashing.ipynb",
      "provenance": [],
      "authorship_tag": "ABX9TyNLp4SGLhMTxsP/+9zUqbIH",
      "include_colab_link": true
    },
    "kernelspec": {
      "name": "python3",
      "display_name": "Python 3"
    },
    "language_info": {
      "name": "python"
    }
  },
  "cells": [
    {
      "cell_type": "markdown",
      "metadata": {
        "id": "view-in-github",
        "colab_type": "text"
      },
      "source": [
        "<a href=\"https://colab.research.google.com/github/dalgual/classes/blob/main/hashing.ipynb\" target=\"_parent\"><img src=\"https://colab.research.google.com/assets/colab-badge.svg\" alt=\"Open In Colab\"/></a>"
      ]
    },
    {
      "cell_type": "markdown",
      "source": [
        "## Hashing Example\n",
        "### Jongwook Woo, jwoo5@calstatela.edu\n",
        "Date: 06/06/2022\n",
        "\n",
        "### References\n",
        "1. https://www.programiz.com/dsa/hash-table"
      ],
      "metadata": {
        "id": "0Ag8I9puiKK8"
      }
    },
    {
      "cell_type": "code",
      "execution_count": 1,
      "metadata": {
        "id": "zv7xvTNJh_ZF"
      },
      "outputs": [],
      "source": [
        "# Python program to demonstrate working of HashTable \n",
        "hashTable = [[],] * 10\n",
        "\n",
        "def checkPrime(n):\n",
        "    if n == 1 or n == 0:\n",
        "        return 0\n",
        "\n",
        "    for i in range(2, n//2):\n",
        "        if n % i == 0:\n",
        "            return 0\n",
        "\n",
        "    return 1\n",
        "\n",
        "\n",
        "def getPrime(n):\n",
        "    if n % 2 == 0:\n",
        "        n = n + 1\n",
        "\n",
        "    while not checkPrime(n):\n",
        "        n += 2\n",
        "\n",
        "    return n\n",
        "\n",
        "\n",
        "def hashFunction(key):\n",
        "    capacity = getPrime(10)\n",
        "    return key % capacity\n",
        "\n",
        "\n",
        "def insertData(key, data):\n",
        "    index = hashFunction(key)\n",
        "    hashTable[index] = [key, data]\n",
        "\n",
        "def removeData(key):\n",
        "    index = hashFunction(key)\n",
        "    hashTable[index] = 0\n",
        "\n",
        "\n",
        "\n"
      ]
    },
    {
      "cell_type": "code",
      "source": [
        "insertData(123, \"apple\")\n",
        "print(hashTable)"
      ],
      "metadata": {
        "colab": {
          "base_uri": "https://localhost:8080/"
        },
        "id": "IQ7hor4tigre",
        "outputId": "8bffe641-c310-415d-8e03-57f6420942c8"
      },
      "execution_count": 2,
      "outputs": [
        {
          "output_type": "stream",
          "name": "stdout",
          "text": [
            "[[], [], [123, 'apple'], [], [], [], [], [], [], []]\n"
          ]
        }
      ]
    },
    {
      "cell_type": "code",
      "source": [
        "\n",
        "insertData(432, \"mango\")\n",
        "insertData(213, \"banana\")\n",
        "insertData(654, \"guava\")\n",
        "\n",
        "print(hashTable)"
      ],
      "metadata": {
        "colab": {
          "base_uri": "https://localhost:8080/"
        },
        "id": "DkFrA-F5iZCP",
        "outputId": "7a5b01d9-2a4f-4f99-8bae-f2ff48a3790e"
      },
      "execution_count": 3,
      "outputs": [
        {
          "output_type": "stream",
          "name": "stdout",
          "text": [
            "[[], [], [123, 'apple'], [432, 'mango'], [213, 'banana'], [654, 'guava'], [], [], [], []]\n"
          ]
        }
      ]
    },
    {
      "cell_type": "code",
      "source": [
        "removeData(123)\n",
        "\n",
        "print(hashTable)"
      ],
      "metadata": {
        "colab": {
          "base_uri": "https://localhost:8080/"
        },
        "id": "prep42p0iWJV",
        "outputId": "1be41d1d-2aec-47d6-914f-f24d7f3ff82b"
      },
      "execution_count": 4,
      "outputs": [
        {
          "output_type": "stream",
          "name": "stdout",
          "text": [
            "[[], [], 0, [432, 'mango'], [213, 'banana'], [654, 'guava'], [], [], [], []]\n"
          ]
        }
      ]
    }
  ]
}
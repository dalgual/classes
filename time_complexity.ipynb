{
  "nbformat": 4,
  "nbformat_minor": 0,
  "metadata": {
    "colab": {
      "name": "time_complexity.ipynb",
      "provenance": [],
      "authorship_tag": "ABX9TyOVEIgUwDlBH7ABFc2U52ZF",
      "include_colab_link": true
    },
    "kernelspec": {
      "name": "python3",
      "display_name": "Python 3"
    },
    "language_info": {
      "name": "python"
    }
  },
  "cells": [
    {
      "cell_type": "markdown",
      "metadata": {
        "id": "view-in-github",
        "colab_type": "text"
      },
      "source": [
        "<a href=\"https://colab.research.google.com/github/dalgual/classes/blob/main/time_complexity.ipynb\" target=\"_parent\"><img src=\"https://colab.research.google.com/assets/colab-badge.svg\" alt=\"Open In Colab\"/></a>"
      ]
    },
    {
      "cell_type": "code",
      "execution_count": null,
      "metadata": {
        "id": "Gtt7i1mMa8QO"
      },
      "outputs": [],
      "source": [
        ""
      ]
    },
    {
      "cell_type": "markdown",
      "source": [
        "## Time Complexity Example\n",
        "### Jongwook Woo, jwoo5@calstatela.edu\n",
        "Date: 06/06/2022\n",
        "\n",
        "### References\n",
        "1. https://www.mygreatlearning.com/blog/why-is-time-complexity-essential/#t4"
      ],
      "metadata": {
        "id": "pqU73JmObBZ3"
      }
    },
    {
      "cell_type": "code",
      "source": [
        "import time"
      ],
      "metadata": {
        "id": "AkijvgXibJBY"
      },
      "execution_count": 1,
      "outputs": []
    },
    {
      "cell_type": "code",
      "source": [
        "# return the first element of the input arry\n",
        "def first_number(arry):\n",
        "  return arry[0]"
      ],
      "metadata": {
        "id": "29DtxQJWbMEG"
      },
      "execution_count": 2,
      "outputs": []
    },
    {
      "cell_type": "code",
      "source": [
        "start = time.time()\n",
        "first_elmt = first_number([12, 2, 4, 6, 9, 3, 0, 1])\n",
        "\n",
        "print(\"first element = \", first_elmt,\" execution time: %.3f\" % (time.time() - start))"
      ],
      "metadata": {
        "colab": {
          "base_uri": "https://localhost:8080/"
        },
        "id": "63jyB1u7bW7p",
        "outputId": "e41c60fb-c68e-4ca6-8493-4926b7ea29a9"
      },
      "execution_count": 10,
      "outputs": [
        {
          "output_type": "stream",
          "name": "stdout",
          "text": [
            "first element =  12  execution time: 0.000\n"
          ]
        }
      ]
    },
    {
      "cell_type": "code",
      "source": [
        "start = time.time()\n",
        "first_elmt = first_number([6, 9, 3, 0, 1, 12, 2, 4])\n",
        "\n",
        "print(\"first element = \", first_elmt,\" execution time: %.3f\" % (time.time() - start))\n",
        "# print(\"first element = \", first_elmt,\" execution time: {}\".format(time.time() - start))"
      ],
      "metadata": {
        "colab": {
          "base_uri": "https://localhost:8080/"
        },
        "id": "yuaURSOmcAb7",
        "outputId": "2c1a4232-0f26-4d97-e9c0-0c860ba0d2e6"
      },
      "execution_count": 9,
      "outputs": [
        {
          "output_type": "stream",
          "name": "stdout",
          "text": [
            "first element =  6  execution time: 0.000\n"
          ]
        }
      ]
    },
    {
      "cell_type": "code",
      "source": [
        ""
      ],
      "metadata": {
        "id": "yz9jTVA1by-C"
      },
      "execution_count": null,
      "outputs": []
    }
  ]
}
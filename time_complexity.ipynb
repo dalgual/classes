{
  "nbformat": 4,
  "nbformat_minor": 0,
  "metadata": {
    "colab": {
      "name": "time_complexity.ipynb",
      "provenance": [],
      "include_colab_link": true
    },
    "kernelspec": {
      "name": "python3",
      "display_name": "Python 3"
    },
    "language_info": {
      "name": "python"
    }
  },
  "cells": [
    {
      "cell_type": "markdown",
      "metadata": {
        "id": "view-in-github",
        "colab_type": "text"
      },
      "source": [
        "<a href=\"https://colab.research.google.com/github/dalgual/classes/blob/main/time_complexity.ipynb\" target=\"_parent\"><img src=\"https://colab.research.google.com/assets/colab-badge.svg\" alt=\"Open In Colab\"/></a>"
      ]
    },
    {
      "cell_type": "code",
      "execution_count": 14,
      "metadata": {
        "id": "Gtt7i1mMa8QO"
      },
      "outputs": [],
      "source": [
        ""
      ]
    },
    {
      "cell_type": "markdown",
      "source": [
        "## Time Complexity Example\n",
        "### Jongwook Woo, jwoo5@calstatela.edu\n",
        "Date: 06/06/2022\n",
        "\n",
        "### References\n",
        "1. https://www.mygreatlearning.com/blog/why-is-time-complexity-essential/#t4"
      ],
      "metadata": {
        "id": "pqU73JmObBZ3"
      }
    },
    {
      "cell_type": "code",
      "source": [
        "import time"
      ],
      "metadata": {
        "id": "AkijvgXibJBY"
      },
      "execution_count": 15,
      "outputs": []
    },
    {
      "cell_type": "code",
      "source": [
        "# return the first element of the input arry\n",
        "def first_number(arry):\n",
        "  return arry[0]"
      ],
      "metadata": {
        "id": "29DtxQJWbMEG"
      },
      "execution_count": 16,
      "outputs": []
    },
    {
      "cell_type": "code",
      "source": [
        "def any_number(arry, i):\n",
        "  return arry[i]"
      ],
      "metadata": {
        "id": "hTC3W9SIGzWS"
      },
      "execution_count": 17,
      "outputs": []
    },
    {
      "cell_type": "code",
      "source": [
        "start = time.time()\n",
        "first_elmt = first_number([12, 2, 4, 6, 9, 3, 0, 1])\n",
        "\n",
        "print(\"first element = \", first_elmt,\" execution time: %.8f\" % (time.time() - start))"
      ],
      "metadata": {
        "colab": {
          "base_uri": "https://localhost:8080/"
        },
        "id": "63jyB1u7bW7p",
        "outputId": "83f6164d-2690-4ca5-c1ca-fa08cb710cdf"
      },
      "execution_count": 18,
      "outputs": [
        {
          "output_type": "stream",
          "name": "stdout",
          "text": [
            "first element =  12  execution time: 0.00016594\n"
          ]
        }
      ]
    },
    {
      "cell_type": "code",
      "source": [
        "start = time.time()\n",
        "any_elmt = any_number([12, 2, 4, 6, 9, 3, 0, 1], 5)\n",
        "\n",
        "print(\"Any element = \", any_elmt,\" execution time: %.8f\" % (time.time() - start))"
      ],
      "metadata": {
        "colab": {
          "base_uri": "https://localhost:8080/"
        },
        "id": "dUBXWj42G3_q",
        "outputId": "d4b009aa-0138-464a-cb00-ab4b424b4803"
      },
      "execution_count": 19,
      "outputs": [
        {
          "output_type": "stream",
          "name": "stdout",
          "text": [
            "Any element =  3  execution time: 0.00012159\n"
          ]
        }
      ]
    },
    {
      "cell_type": "code",
      "source": [
        "start = time.time()\n",
        "first_elmt = first_number([6, 9, 3, 0, 1, 12, 2, 4])\n",
        "\n",
        "print(\"first element = \", first_elmt,\" execution time: %.8f\" % (time.time() - start))\n",
        "# print(\"first element = \", first_elmt,\" execution time: {}\".format(time.time() - start))"
      ],
      "metadata": {
        "colab": {
          "base_uri": "https://localhost:8080/"
        },
        "id": "yuaURSOmcAb7",
        "outputId": "b1fc4ded-ef04-4ca1-8271-3cd021fa353d"
      },
      "execution_count": 20,
      "outputs": [
        {
          "output_type": "stream",
          "name": "stdout",
          "text": [
            "first element =  6  execution time: 0.00012159\n"
          ]
        }
      ]
    },
    {
      "cell_type": "code",
      "source": [
        "start = time.time()\n",
        "any_elmt = any_number([6, 9, 3, 0, 1, 12, 2, 4], 5)\n",
        "\n",
        "print(\"Any element = \", any_elmt,\" execution time: %.8f\" % (time.time() - start))"
      ],
      "metadata": {
        "colab": {
          "base_uri": "https://localhost:8080/"
        },
        "id": "l7SFHH3yHDRq",
        "outputId": "01818f4e-61a8-4c5c-9ad9-8e7d7d50d677"
      },
      "execution_count": 21,
      "outputs": [
        {
          "output_type": "stream",
          "name": "stdout",
          "text": [
            "Any element =  12  execution time: 0.00012326\n"
          ]
        }
      ]
    },
    {
      "cell_type": "markdown",
      "source": [
        "### O(N): Linear Order"
      ],
      "metadata": {
        "id": "RJyLIHe3Jcrq"
      }
    },
    {
      "cell_type": "code",
      "source": [
        "def summation(arry):\n",
        "  a = 0\n",
        "  for i in arry:\n",
        "    a = a + i\n",
        "    #a\n",
        "  return a"
      ],
      "metadata": {
        "id": "yz9jTVA1by-C"
      },
      "execution_count": 35,
      "outputs": []
    },
    {
      "cell_type": "code",
      "source": [
        "start = time.time()\n",
        "arry1 = [16, 19, 13, 10, 11, 112,12, 14, 6, 9, 3, 0, 1, 12, 2, 4]\n",
        "summation(arry1)\n",
        "\n",
        "#print(\" execution time: {}\".format(time.time() - start))\n",
        "print(\" execution time: %.8f\" % (time.time() - start))"
      ],
      "metadata": {
        "id": "QvPKPNWGKDyh",
        "outputId": "82612128-0558-41df-bcbc-0a64bef53353",
        "colab": {
          "base_uri": "https://localhost:8080/"
        }
      },
      "execution_count": 49,
      "outputs": [
        {
          "output_type": "stream",
          "name": "stdout",
          "text": [
            " execution time: 0.00020528\n"
          ]
        }
      ]
    },
    {
      "cell_type": "code",
      "source": [
        "start = time.time()\n",
        "arry2 = [6, 9, 3, 0, 1, 12, 2, 4]\n",
        "summation(arry2)\n",
        "\n",
        "#print(\" execution time: {}\".format(time.time() - start))\n",
        "print(\" execution time: %.8f\" % (time.time() - start))"
      ],
      "metadata": {
        "id": "rs_FoYQrJ5hG",
        "outputId": "849b8dd3-f3c8-43e6-b52d-02cfd9214591",
        "colab": {
          "base_uri": "https://localhost:8080/"
        }
      },
      "execution_count": 50,
      "outputs": [
        {
          "output_type": "stream",
          "name": "stdout",
          "text": [
            " execution time: 0.00015330\n"
          ]
        }
      ]
    }
  ]
}
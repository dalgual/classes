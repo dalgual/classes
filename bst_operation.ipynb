{
  "nbformat": 4,
  "nbformat_minor": 0,
  "metadata": {
    "colab": {
      "name": "bst_operation.ipynb",
      "provenance": [],
      "toc_visible": true,
      "authorship_tag": "ABX9TyMV3l/XWQ1OByf3tkruMQCE",
      "include_colab_link": true
    },
    "kernelspec": {
      "name": "python3",
      "display_name": "Python 3"
    },
    "language_info": {
      "name": "python"
    }
  },
  "cells": [
    {
      "cell_type": "markdown",
      "metadata": {
        "id": "view-in-github",
        "colab_type": "text"
      },
      "source": [
        "<a href=\"https://colab.research.google.com/github/dalgual/classes/blob/main/bst_operation.ipynb\" target=\"_parent\"><img src=\"https://colab.research.google.com/assets/colab-badge.svg\" alt=\"Open In Colab\"/></a>"
      ]
    },
    {
      "cell_type": "markdown",
      "source": [
        "## Binary Tree Operations Example\n",
        "### Jongwook Woo, jwoo5@calstatela.edu\n",
        "Date: 06/22/2022\n",
        "\n",
        "### References\n",
        "1. https://www.programiz.com/dsa/binary-search-tree\n"
      ],
      "metadata": {
        "id": "K9yE3bufRS_T"
      }
    },
    {
      "cell_type": "code",
      "execution_count": 8,
      "metadata": {
        "id": "xzcvlZX_Q_yI"
      },
      "outputs": [],
      "source": [
        "# Create a node\n",
        "class Node:\n",
        "    def __init__(self, key):\n",
        "        self.key = key\n",
        "        self.left = None\n",
        "        self.right = None\n"
      ]
    },
    {
      "cell_type": "code",
      "source": [
        "# Inorder traversal\n",
        "def inorder(root):\n",
        "    if root is not None:\n",
        "        # Traverse left\n",
        "        inorder(root.left)\n",
        "\n",
        "        # Traverse root\n",
        "        print(str(root.key) + \"->\", end=' ')\n",
        "\n",
        "        # Traverse right\n",
        "        inorder(root.right)"
      ],
      "metadata": {
        "id": "g2JZ5Ug3R4Ye"
      },
      "execution_count": 9,
      "outputs": []
    },
    {
      "cell_type": "code",
      "source": [
        "# Insert a node\n",
        "def insert(node, key):\n",
        "\n",
        "    # Return a new node if the tree is empty\n",
        "    if node is None:\n",
        "        return Node(key)\n",
        "\n",
        "    # Traverse to the right place and insert the node\n",
        "    if key < node.key:\n",
        "        node.left = insert(node.left, key)\n",
        "    else:\n",
        "        node.right = insert(node.right, key)\n",
        "\n",
        "    return node"
      ],
      "metadata": {
        "id": "KyX3qKhsR0we"
      },
      "execution_count": 10,
      "outputs": []
    },
    {
      "cell_type": "code",
      "source": [
        "# Find the inorder successor\n",
        "def minValueNode(node):\n",
        "    current = node\n",
        "\n",
        "    # Find the leftmost leaf\n",
        "    while(current.left is not None):\n",
        "        current = current.left\n",
        "\n",
        "    return current"
      ],
      "metadata": {
        "id": "y0NvDXm_RyKS"
      },
      "execution_count": 11,
      "outputs": []
    },
    {
      "cell_type": "code",
      "source": [
        "# Deleting a node\n",
        "def deleteNode(root, key):\n",
        "\n",
        "    # Return if the tree is empty\n",
        "    if root is None:\n",
        "        return root\n",
        "\n",
        "    # Find the node to be deleted\n",
        "    if key < root.key:\n",
        "        root.left = deleteNode(root.left, key)\n",
        "    elif(key > root.key):\n",
        "        root.right = deleteNode(root.right, key)\n",
        "    else:\n",
        "        # If the node is with only one child or no child\n",
        "        if root.left is None:\n",
        "            temp = root.right\n",
        "            root = None\n",
        "            return temp\n",
        "\n",
        "        elif root.right is None:\n",
        "            temp = root.left\n",
        "            root = None\n",
        "            return temp\n",
        "\n",
        "        # If the node has two children,\n",
        "        # place the inorder successor in position of the node to be deleted\n",
        "        temp = minValueNode(root.right)\n",
        "\n",
        "        root.key = temp.key\n",
        "\n",
        "        # Delete the inorder successor\n",
        "        root.right = deleteNode(root.right, temp.key)\n",
        "\n",
        "    return root"
      ],
      "metadata": {
        "id": "XEZNk9i0Rtaz"
      },
      "execution_count": 12,
      "outputs": []
    },
    {
      "cell_type": "code",
      "source": [
        "root = None\n",
        "root = insert(root, 8)\n",
        "root = insert(root, 3)\n",
        "root = insert(root, 1)\n",
        "\n",
        "print(\"Inorder traversal: \", end=' ')\n",
        "inorder(root)\n"
      ],
      "metadata": {
        "colab": {
          "base_uri": "https://localhost:8080/"
        },
        "id": "unnLuSktRqyx",
        "outputId": "9f9fdee3-8782-47a1-b8a5-60d5129b0e90"
      },
      "execution_count": 13,
      "outputs": [
        {
          "output_type": "stream",
          "name": "stdout",
          "text": [
            "Inorder traversal:  1-> 3-> 8-> "
          ]
        }
      ]
    },
    {
      "cell_type": "code",
      "source": [
        "root = insert(root, 6)\n",
        "root = insert(root, 7)\n",
        "root = insert(root, 10)\n",
        "root = insert(root, 14)\n",
        "print(\"Inorder traversal: \", end=' ')\n",
        "inorder(root)"
      ],
      "metadata": {
        "colab": {
          "base_uri": "https://localhost:8080/"
        },
        "id": "mjvRJH04SpaO",
        "outputId": "ff5a6ecd-afe8-4846-be26-de08b8cf0cce"
      },
      "execution_count": 14,
      "outputs": [
        {
          "output_type": "stream",
          "name": "stdout",
          "text": [
            "Inorder traversal:  1-> 3-> 6-> 7-> 8-> 10-> 14-> "
          ]
        }
      ]
    },
    {
      "cell_type": "code",
      "source": [
        "root = insert(root, 4)\n",
        "\n",
        "print(\"Inorder traversal: \", end=' ')\n",
        "inorder(root)"
      ],
      "metadata": {
        "colab": {
          "base_uri": "https://localhost:8080/"
        },
        "id": "ov10D64pSjk-",
        "outputId": "2826af09-b180-4cb9-ba53-89fe35b4ef33"
      },
      "execution_count": 15,
      "outputs": [
        {
          "output_type": "stream",
          "name": "stdout",
          "text": [
            "Inorder traversal:  1-> 3-> 4-> 6-> 7-> 8-> 10-> 14-> "
          ]
        }
      ]
    },
    {
      "cell_type": "code",
      "source": [
        "print(\"\\nDelete 10\")\n",
        "root = deleteNode(root, 10)\n",
        "print(\"Inorder traversal: \", end=' ')\n",
        "inorder(root)"
      ],
      "metadata": {
        "colab": {
          "base_uri": "https://localhost:8080/"
        },
        "id": "NZiSPCjHRhjf",
        "outputId": "ba4b7366-8a8d-409e-c93a-8054cfd41811"
      },
      "execution_count": 16,
      "outputs": [
        {
          "output_type": "stream",
          "name": "stdout",
          "text": [
            "\n",
            "Delete 10\n",
            "Inorder traversal:  1-> 3-> 4-> 6-> 7-> 8-> 14-> "
          ]
        }
      ]
    }
  ]
}
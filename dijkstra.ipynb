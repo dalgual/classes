{
  "nbformat": 4,
  "nbformat_minor": 0,
  "metadata": {
    "colab": {
      "name": "dijkstra.ipynb",
      "provenance": [],
      "authorship_tag": "ABX9TyNH7PaEF4zWL8e4fhxejGAr",
      "include_colab_link": true
    },
    "kernelspec": {
      "name": "python3",
      "display_name": "Python 3"
    },
    "language_info": {
      "name": "python"
    }
  },
  "cells": [
    {
      "cell_type": "markdown",
      "metadata": {
        "id": "view-in-github",
        "colab_type": "text"
      },
      "source": [
        "<a href=\"https://colab.research.google.com/github/dalgual/classes/blob/main/dijkstra.ipynb\" target=\"_parent\"><img src=\"https://colab.research.google.com/assets/colab-badge.svg\" alt=\"Open In Colab\"/></a>"
      ]
    },
    {
      "cell_type": "markdown",
      "source": [
        "## Dijkstra's Algorithm\n",
        "### Jongwook Woo, jwoo5@calstatela.edu\n",
        "Date: 06/22/2022\n",
        "\n",
        "### References\n",
        "1. https://www.programiz.com/dsa/dijkstra-algorithm\n"
      ],
      "metadata": {
        "id": "_RL4g1xxGkGm"
      }
    },
    {
      "cell_type": "code",
      "source": [
        "# Dijkstra's Algorithm in Python\n",
        "\n",
        "\n",
        "import sys"
      ],
      "metadata": {
        "id": "KTa_o9VcHbUC"
      },
      "execution_count": 11,
      "outputs": []
    },
    {
      "cell_type": "code",
      "source": [
        "# Providing the graph\n",
        "vertices = [[0, 0, 1, 1, 0, 0, 0],\n",
        "            [0, 0, 1, 0, 0, 1, 0],\n",
        "            [1, 1, 0, 1, 1, 0, 0],\n",
        "            [1, 0, 1, 0, 0, 0, 1],\n",
        "            [0, 0, 1, 0, 0, 1, 0],\n",
        "            [0, 1, 0, 0, 1, 0, 1],\n",
        "            [0, 0, 0, 1, 0, 1, 0]]\n",
        "\n",
        "edges = [[0, 0, 1, 2, 0, 0, 0],\n",
        "         [0, 0, 2, 0, 0, 3, 0],\n",
        "         [1, 2, 0, 1, 3, 0, 0],\n",
        "         [2, 0, 1, 0, 0, 0, 1],\n",
        "         [0, 0, 3, 0, 0, 2, 0],\n",
        "         [0, 3, 0, 0, 2, 0, 1],\n",
        "         [0, 0, 0, 1, 0, 1, 0]]"
      ],
      "metadata": {
        "id": "L42zEydLHHi-"
      },
      "execution_count": 12,
      "outputs": []
    },
    {
      "cell_type": "code",
      "source": [
        "# Providing the graph at [1]\n",
        "vertices = [[0, 1, 1, 0, 0, 0],\n",
        "            [1, 0, 1, 0, 0, 0],\n",
        "            [1, 1, 0, 1, 1, 1],\n",
        "            [0, 0, 1, 0, 1, 0],\n",
        "            [0, 0, 1, 1, 0, 1],\n",
        "            [0, 0, 1, 0, 1, 0]]\n",
        "\n",
        "edges = [[0, 4, 4, 0, 0, 0],\n",
        "         [4, 0, 2, 0, 0, 0],\n",
        "         [4, 2, 0, 3, 1, 6],\n",
        "         [0, 0, 3, 0, 2, 0],\n",
        "         [0, 0, 1, 2, 0, 3],\n",
        "         [0, 0, 6, 0, 3, 0]]"
      ],
      "metadata": {
        "id": "x8SJPhxsIVCE"
      },
      "execution_count": 16,
      "outputs": []
    },
    {
      "cell_type": "code",
      "execution_count": 17,
      "metadata": {
        "id": "LPAxAljbGLLQ"
      },
      "outputs": [],
      "source": [
        "\n",
        "\n",
        "# Find which vertex is to be visited next\n",
        "def to_be_visited():\n",
        "    global visited_and_distance\n",
        "    v = -10\n",
        "    for index in range(num_of_vertices):\n",
        "        if visited_and_distance[index][0] == 0 \\\n",
        "            and (v < 0 or visited_and_distance[index][1] <=\n",
        "                 visited_and_distance[v][1]):\n",
        "            v = index\n",
        "    return v\n",
        "\n",
        "\n",
        "num_of_vertices = len(vertices[0])\n",
        "\n",
        "visited_and_distance = [[0, 0]]\n",
        "for i in range(num_of_vertices-1):\n",
        "    visited_and_distance.append([0, sys.maxsize])\n",
        "\n",
        "for vertex in range(num_of_vertices):\n",
        "\n",
        "    # Find next vertex to be visited\n",
        "    to_visit = to_be_visited()\n",
        "    for neighbor_index in range(num_of_vertices):\n",
        "\n",
        "        # Updating new distances\n",
        "        if vertices[to_visit][neighbor_index] == 1 and \\\n",
        "                visited_and_distance[neighbor_index][0] == 0:\n",
        "            new_distance = visited_and_distance[to_visit][1] \\\n",
        "                + edges[to_visit][neighbor_index]\n",
        "            if visited_and_distance[neighbor_index][1] > new_distance:\n",
        "                visited_and_distance[neighbor_index][1] = new_distance\n",
        "        \n",
        "        visited_and_distance[to_visit][0] = 1\n",
        "\n"
      ]
    },
    {
      "cell_type": "code",
      "source": [
        "i = 0\n",
        "\n",
        "# Printing the distance\n",
        "for distance in visited_and_distance:\n",
        "    print(\"Distance of \", chr(ord('a') + i),\n",
        "          \" from source vertex: \", distance[1])\n",
        "    i = i + 1"
      ],
      "metadata": {
        "colab": {
          "base_uri": "https://localhost:8080/"
        },
        "id": "rYAEzaWFHBDn",
        "outputId": "21180f41-9957-447f-9779-22ba96dc104c"
      },
      "execution_count": 18,
      "outputs": [
        {
          "output_type": "stream",
          "name": "stdout",
          "text": [
            "Distance of  a  from source vertex:  0\n",
            "Distance of  b  from source vertex:  4\n",
            "Distance of  c  from source vertex:  4\n",
            "Distance of  d  from source vertex:  7\n",
            "Distance of  e  from source vertex:  5\n",
            "Distance of  f  from source vertex:  8\n"
          ]
        }
      ]
    }
  ]
}
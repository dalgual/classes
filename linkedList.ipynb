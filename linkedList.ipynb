{
  "nbformat": 4,
  "nbformat_minor": 0,
  "metadata": {
    "colab": {
      "name": "linkedList.ipynb",
      "provenance": [],
      "authorship_tag": "ABX9TyOWQAFBJK9x5/lpJjbe0R+K",
      "include_colab_link": true
    },
    "kernelspec": {
      "name": "python3",
      "display_name": "Python 3"
    },
    "language_info": {
      "name": "python"
    }
  },
  "cells": [
    {
      "cell_type": "markdown",
      "metadata": {
        "id": "view-in-github",
        "colab_type": "text"
      },
      "source": [
        "<a href=\"https://colab.research.google.com/github/dalgual/classes/blob/main/linkedList.ipynb\" target=\"_parent\"><img src=\"https://colab.research.google.com/assets/colab-badge.svg\" alt=\"Open In Colab\"/></a>"
      ]
    },
    {
      "cell_type": "markdown",
      "source": [
        "## Linked List Example\n",
        "### Jongwook Woo, jwoo5@calstatela.edu\n",
        "Date: 06/06/2022\n",
        "\n",
        "### References\n",
        "1. https://www.programiz.com/dsa/linked-list"
      ],
      "metadata": {
        "id": "6Ecz_zT4EIJ0"
      }
    },
    {
      "cell_type": "code",
      "source": [
        "# Linked list implementation in Python\n",
        "\n",
        "class Node:\n",
        "    # Creating a node\n",
        "    def __init__(self, item):\n",
        "        self.item = item\n",
        "        self.next = None"
      ],
      "metadata": {
        "id": "UdotPio3ESP3"
      },
      "execution_count": 1,
      "outputs": []
    },
    {
      "cell_type": "code",
      "source": [
        "class LinkedList:\n",
        "    def __init__(self):\n",
        "        self.head = None"
      ],
      "metadata": {
        "id": "PY16-k1rEW6T"
      },
      "execution_count": 2,
      "outputs": []
    },
    {
      "cell_type": "code",
      "source": [
        "\n",
        "linked_list = LinkedList()\n",
        "\n",
        "# Assign item values\n",
        "linked_list.head = Node(1)\n",
        "second = Node(2)\n",
        "third = Node(3)\n",
        "\n"
      ],
      "metadata": {
        "id": "TKjV9haZENSX"
      },
      "execution_count": 3,
      "outputs": []
    },
    {
      "cell_type": "code",
      "source": [
        "# Connect nodes\n",
        "linked_list.head.next = second\n",
        "second.next = third\n",
        "\n",
        "# Print the linked list item\n",
        "while linked_list.head != None:\n",
        "  print(linked_list.head.item, end=\" \")\n",
        "  linked_list.head = linked_list.head.next"
      ],
      "metadata": {
        "colab": {
          "base_uri": "https://localhost:8080/"
        },
        "id": "uxa2u5PVEkzm",
        "outputId": "c7b21100-c42e-4b2a-efb4-4167de0cb3ca"
      },
      "execution_count": 4,
      "outputs": [
        {
          "output_type": "stream",
          "name": "stdout",
          "text": [
            "1 2 3 "
          ]
        }
      ]
    },
    {
      "cell_type": "markdown",
      "source": [
        ""
      ],
      "metadata": {
        "id": "xvnB7BBNEBRh"
      }
    }
  ]
}
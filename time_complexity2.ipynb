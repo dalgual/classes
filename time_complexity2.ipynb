{
  "nbformat": 4,
  "nbformat_minor": 0,
  "metadata": {
    "colab": {
      "name": "time_complexity2.ipynb",
      "provenance": [],
      "authorship_tag": "ABX9TyP6QVrnetQIL0SKg33bO5oZ",
      "include_colab_link": true
    },
    "kernelspec": {
      "name": "python3",
      "display_name": "Python 3"
    },
    "language_info": {
      "name": "python"
    }
  },
  "cells": [
    {
      "cell_type": "markdown",
      "metadata": {
        "id": "view-in-github",
        "colab_type": "text"
      },
      "source": [
        "<a href=\"https://colab.research.google.com/github/dalgual/classes/blob/main/time_complexity2.ipynb\" target=\"_parent\"><img src=\"https://colab.research.google.com/assets/colab-badge.svg\" alt=\"Open In Colab\"/></a>"
      ]
    },
    {
      "cell_type": "markdown",
      "source": [
        "## Time Complexity Example 2\n",
        "### Jongwook Woo, jwoo5@calstatela.edu\n",
        "Date: 06/06/2022\n",
        "\n",
        "### References\n",
        "1. https://www.mygreatlearning.com/blog/why-is-time-complexity-essential/#t4"
      ],
      "metadata": {
        "id": "KfX-9AfnXumK"
      }
    },
    {
      "cell_type": "code",
      "source": [
        "# import numpy function: cost c1, n = 1 => c1\n",
        "import numpy as np\n",
        "\n",
        "# create variable n: cost c2, n = 1 => c2\n",
        "n=10\n",
        "\n",
        "# create array x with random values: cost c3, n = 1 => c3\n",
        "x = np.random.randint(1, 20, n).reshape(n)\n",
        "# print x: cost c4, n = 1 => c4\n",
        "print(x)\n",
        "\n",
        "# Time Complexity: c1+ c2 + c3 + c4 = 4c = c = O(1)"
      ],
      "metadata": {
        "colab": {
          "base_uri": "https://localhost:8080/"
        },
        "id": "T_Je9dPIYk90",
        "outputId": "8b0f4853-5ece-4009-c614-8d885ac470d3"
      },
      "execution_count": 3,
      "outputs": [
        {
          "output_type": "stream",
          "name": "stdout",
          "text": [
            "[ 2 14 15 15 10 11 17 17 14 16]\n"
          ]
        }
      ]
    },
    {
      "cell_type": "code",
      "source": [
        "# for loop to run: cost c5, n = n times => (c5 x n)\n",
        "for i in x:\n",
        "  # print i: cost c4, n = 1 => c4\n",
        "  print(i)\n",
        "\n",
        "# Time Complexity: (c5 x n) + c4 = (c x n) + c = O(n)+O(1)"
      ],
      "metadata": {
        "colab": {
          "base_uri": "https://localhost:8080/"
        },
        "id": "QiZBs9AyZALS",
        "outputId": "47080ab2-a098-43e6-f1f9-5e1436f930f7"
      },
      "execution_count": 6,
      "outputs": [
        {
          "output_type": "stream",
          "name": "stdout",
          "text": [
            "2\n",
            "14\n",
            "15\n",
            "15\n",
            "10\n",
            "11\n",
            "17\n",
            "17\n",
            "14\n",
            "16\n"
          ]
        }
      ]
    },
    {
      "cell_type": "code",
      "source": [
        "# create array x with random values: cost c3, n = 1 => c3\n",
        "y = np.random.randint(1, 20, n).reshape(n)\n",
        "\n",
        "for i in x: # for loop to run: cost c5, n = n times => (c5 x n)\n",
        "  for j in y: # for loop to run: cost c5, n = n times => (c5 x n)\n",
        "    print(i, j) # print i and j: cost c4, n = 1\n",
        "\n",
        "# Time Complexity: c3 + (c5 x n) x (c5 x n) + c4 = c + (c x n)^2 + c = c(n^2) + 2c = O(n^2)+O(1)"
      ],
      "metadata": {
        "id": "ANQsmbjiY0OJ"
      },
      "execution_count": null,
      "outputs": []
    },
    {
      "cell_type": "code",
      "source": [
        ""
      ],
      "metadata": {
        "id": "21SKbIdMYpdR"
      },
      "execution_count": null,
      "outputs": []
    }
  ]
}
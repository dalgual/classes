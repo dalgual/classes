{
  "nbformat": 4,
  "nbformat_minor": 0,
  "metadata": {
    "colab": {
      "name": "bfs.ipynb",
      "provenance": [],
      "authorship_tag": "ABX9TyNAJmZoVhhHysPT5+BKrdFp",
      "include_colab_link": true
    },
    "kernelspec": {
      "name": "python3",
      "display_name": "Python 3"
    },
    "language_info": {
      "name": "python"
    }
  },
  "cells": [
    {
      "cell_type": "markdown",
      "metadata": {
        "id": "view-in-github",
        "colab_type": "text"
      },
      "source": [
        "<a href=\"https://colab.research.google.com/github/dalgual/classes/blob/main/bfs.ipynb\" target=\"_parent\"><img src=\"https://colab.research.google.com/assets/colab-badge.svg\" alt=\"Open In Colab\"/></a>"
      ]
    },
    {
      "cell_type": "markdown",
      "source": [
        "## BFS Algorithm\n",
        "### Jongwook Woo, jwoo5@calstatela.edu\n",
        "Date: 06/22/2022\n",
        "\n",
        "### References\n",
        "1. https://www.programiz.com/dsa/graph-bfs"
      ],
      "metadata": {
        "id": "dmXT97bq5611"
      }
    },
    {
      "cell_type": "code",
      "execution_count": 1,
      "metadata": {
        "id": "vWTHjXkz53wC"
      },
      "outputs": [],
      "source": [
        "# BFS algorithm in Python\n",
        "\n",
        "\n",
        "import collections\n",
        "\n",
        "# BFS algorithm\n",
        "def bfs(graph, root):\n",
        "\n",
        "    visited, queue = set(), collections.deque([root])\n",
        "    visited.add(root)\n",
        "\n",
        "    while queue:\n",
        "\n",
        "        # Dequeue a vertex from queue\n",
        "        vertex = queue.popleft()\n",
        "        print(str(vertex) + \" \", end=\"\")\n",
        "\n",
        "        # If not visited, mark it as visited, and\n",
        "        # enqueue it\n",
        "        for neighbour in graph[vertex]:\n",
        "            if neighbour not in visited:\n",
        "                visited.add(neighbour)\n",
        "                queue.append(neighbour)\n"
      ]
    },
    {
      "cell_type": "code",
      "source": [
        "# graph = {0: [1, 2], 1: [2], 2: [3], 3: [1, 2]}\n",
        "graph = {0: [1, 2, 3], 1: [0, 2], 2: [0, 1, 4], 3: [0], 4:[2]}\n",
        "print(\"Following is Breadth First Traversal: \")\n",
        "bfs(graph, 0)"
      ],
      "metadata": {
        "colab": {
          "base_uri": "https://localhost:8080/"
        },
        "id": "ErRTg9HN6C_0",
        "outputId": "332d135d-3adb-416b-8d5e-3480c8b5672b"
      },
      "execution_count": 4,
      "outputs": [
        {
          "output_type": "stream",
          "name": "stdout",
          "text": [
            "Following is Breadth First Traversal: \n",
            "0 1 2 3 4 "
          ]
        }
      ]
    }
  ]
}
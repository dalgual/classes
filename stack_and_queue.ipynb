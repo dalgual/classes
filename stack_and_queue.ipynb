{
  "nbformat": 4,
  "nbformat_minor": 0,
  "metadata": {
    "colab": {
      "name": "stack and queue.ipynb",
      "provenance": [],
      "authorship_tag": "ABX9TyNx7kyKKExk/cSSHY+qteal",
      "include_colab_link": true
    },
    "kernelspec": {
      "name": "python3",
      "display_name": "Python 3"
    },
    "language_info": {
      "name": "python"
    }
  },
  "cells": [
    {
      "cell_type": "markdown",
      "metadata": {
        "id": "view-in-github",
        "colab_type": "text"
      },
      "source": [
        "<a href=\"https://colab.research.google.com/github/dalgual/classes/blob/main/stack_and_queue.ipynb\" target=\"_parent\"><img src=\"https://colab.research.google.com/assets/colab-badge.svg\" alt=\"Open In Colab\"/></a>"
      ]
    },
    {
      "cell_type": "markdown",
      "source": [
        "## Stack and Queue Example\n",
        "### Jongwook Woo, jwoo5@calstatela.edu\n",
        "\n",
        "### References\n",
        "1. https://www.programiz.com/dsa/stack"
      ],
      "metadata": {
        "id": "9GNw2Pbg1U-S"
      }
    },
    {
      "cell_type": "code",
      "source": [
        "# Stack implementation in python\n",
        "\n",
        "# Creating a stack\n",
        "def create_stack():\n",
        "    stack = []\n",
        "    return stack"
      ],
      "metadata": {
        "id": "bxACsDE21UQo"
      },
      "execution_count": 1,
      "outputs": []
    },
    {
      "cell_type": "code",
      "source": [
        "# Creating an empty stack\n",
        "def check_empty(stack):\n",
        "    return len(stack) == 0"
      ],
      "metadata": {
        "id": "LiQPnkVFLAxV"
      },
      "execution_count": 2,
      "outputs": []
    },
    {
      "cell_type": "code",
      "source": [
        "# Adding items into the stack\n",
        "def push(stack, item):\n",
        "    stack.append(item)\n",
        "    print(\"pushed item: \" + item)"
      ],
      "metadata": {
        "id": "gLNBk-cTK-BI"
      },
      "execution_count": 3,
      "outputs": []
    },
    {
      "cell_type": "code",
      "source": [
        "# Removing an element from the stack\n",
        "def pop(stack):\n",
        "    if (check_empty(stack)):\n",
        "        return \"stack is empty\"\n",
        "\n",
        "    return stack.pop()"
      ],
      "metadata": {
        "id": "vDUdrM9CK8HS"
      },
      "execution_count": 4,
      "outputs": []
    },
    {
      "cell_type": "code",
      "source": [
        "stack = create_stack()\n",
        "push(stack, str(1))\n",
        "push(stack, str(2))\n",
        "push(stack, str(3))\n",
        "push(stack, str(4))\n",
        "\n",
        "print(\"stack element now: \" + str(stack))"
      ],
      "metadata": {
        "colab": {
          "base_uri": "https://localhost:8080/"
        },
        "id": "GqyrODEOK6LW",
        "outputId": "502c17c8-74b7-4983-f09c-df1287d816d3"
      },
      "execution_count": 6,
      "outputs": [
        {
          "output_type": "stream",
          "name": "stdout",
          "text": [
            "pushed item: 1\n",
            "pushed item: 2\n",
            "pushed item: 3\n",
            "pushed item: 4\n",
            "stack element now: ['1', '2', '3', '4']\n"
          ]
        }
      ]
    },
    {
      "cell_type": "code",
      "source": [
        "print(\"popped item: \" + pop(stack))\n",
        "print(\"stack after popping an element: \" + str(stack))"
      ],
      "metadata": {
        "colab": {
          "base_uri": "https://localhost:8080/"
        },
        "id": "-rgozsWXLNTM",
        "outputId": "479065a3-1c87-4aa9-82bd-4037128468fe"
      },
      "execution_count": 7,
      "outputs": [
        {
          "output_type": "stream",
          "name": "stdout",
          "text": [
            "popped item: 4\n",
            "stack after popping an element: ['1', '2', '3']\n"
          ]
        }
      ]
    },
    {
      "cell_type": "code",
      "source": [
        ""
      ],
      "metadata": {
        "id": "vpmcl_MZK6JA"
      },
      "execution_count": 7,
      "outputs": []
    }
  ]
}
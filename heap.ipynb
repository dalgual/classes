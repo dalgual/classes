{
  "nbformat": 4,
  "nbformat_minor": 0,
  "metadata": {
    "colab": {
      "name": "heap.ipynb",
      "provenance": [],
      "authorship_tag": "ABX9TyOg4TMJvPrwkSgbhf0mcgtX",
      "include_colab_link": true
    },
    "kernelspec": {
      "name": "python3",
      "display_name": "Python 3"
    },
    "language_info": {
      "name": "python"
    }
  },
  "cells": [
    {
      "cell_type": "markdown",
      "metadata": {
        "id": "view-in-github",
        "colab_type": "text"
      },
      "source": [
        "<a href=\"https://colab.research.google.com/github/dalgual/classes/blob/main/heap.ipynb\" target=\"_parent\"><img src=\"https://colab.research.google.com/assets/colab-badge.svg\" alt=\"Open In Colab\"/></a>"
      ]
    },
    {
      "cell_type": "markdown",
      "source": [
        "## Heap Algorithm\n",
        "### Jongwook Woo, jwoo5@calstatela.edu\n",
        "Date: 06/22/2022\n",
        "\n",
        "### References\n",
        "1. https://www.programiz.com/dsa/heap-data-structure\n"
      ],
      "metadata": {
        "id": "LvkU2LvyezI1"
      }
    },
    {
      "cell_type": "code",
      "execution_count": 1,
      "metadata": {
        "id": "gINlsKnoewZ_"
      },
      "outputs": [],
      "source": [
        "# Max-Heap data structure in Python\n",
        "\n",
        "def heapify(arr, n, i):\n",
        "    largest = i\n",
        "    l = 2 * i + 1\n",
        "    r = 2 * i + 2 \n",
        "    \n",
        "    if l < n and arr[i] < arr[l]:\n",
        "        largest = l\n",
        "    \n",
        "    if r < n and arr[largest] < arr[r]:\n",
        "        largest = r\n",
        "    \n",
        "    if largest != i:\n",
        "        arr[i],arr[largest] = arr[largest],arr[i]\n",
        "        heapify(arr, n, largest)    \n"
      ]
    },
    {
      "cell_type": "code",
      "source": [
        "def insert(array, newNum):\n",
        "    size = len(array)\n",
        "    if size == 0:\n",
        "        array.append(newNum)\n",
        "    else:\n",
        "        array.append(newNum);\n",
        "        for i in range((size//2)-1, -1, -1):\n",
        "            heapify(array, size, i)\n",
        "\n"
      ],
      "metadata": {
        "id": "iQ7J1XH9fKSo"
      },
      "execution_count": 2,
      "outputs": []
    },
    {
      "cell_type": "code",
      "source": [
        "def deleteNode(array, num):\n",
        "    size = len(array)\n",
        "    i = 0\n",
        "    for i in range(0, size):\n",
        "        if num == array[i]:\n",
        "            break\n",
        "        \n",
        "    array[i], array[size-1] = array[size-1], array[i]\n",
        "\n",
        "    array.remove(num)\n",
        "    \n",
        "    for i in range((len(array)//2)-1, -1, -1):\n",
        "        heapify(array, len(array), i)"
      ],
      "metadata": {
        "id": "wdmXuAwhfP1o"
      },
      "execution_count": 3,
      "outputs": []
    },
    {
      "cell_type": "code",
      "source": [
        "arr = []\n",
        "\n",
        "insert(arr, 3)\n",
        "insert(arr, 9)\n",
        "insert(arr, 2)\n",
        "insert(arr, 1)\n",
        "insert(arr, 4)\n",
        "insert(arr, 5)\n",
        "\n",
        "\n",
        "print (\"Max-Heap array: \" + str(arr))\n",
        "\n",
        "deleteNode(arr, 4)\n",
        "print(\"After deleting an element: \" + str(arr))"
      ],
      "metadata": {
        "colab": {
          "base_uri": "https://localhost:8080/"
        },
        "id": "VltKLCYPfFu9",
        "outputId": "7417a189-d0ad-4b53-a9db-d6a4ff040761"
      },
      "execution_count": 5,
      "outputs": [
        {
          "output_type": "stream",
          "name": "stdout",
          "text": [
            "Max-Heap array: [9, 4, 2, 1, 3, 5]\n",
            "After deleting an element: [9, 5, 2, 1, 3]\n"
          ]
        }
      ]
    }
  ]
}
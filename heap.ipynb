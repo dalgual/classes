{
  "nbformat": 4,
  "nbformat_minor": 0,
  "metadata": {
    "colab": {
      "name": "heap.ipynb",
      "provenance": [],
      "authorship_tag": "ABX9TyOy7qp+MhKH+X4+FeLx18IR",
      "include_colab_link": true
    },
    "kernelspec": {
      "name": "python3",
      "display_name": "Python 3"
    },
    "language_info": {
      "name": "python"
    }
  },
  "cells": [
    {
      "cell_type": "markdown",
      "metadata": {
        "id": "view-in-github",
        "colab_type": "text"
      },
      "source": [
        "<a href=\"https://colab.research.google.com/github/dalgual/classes/blob/main/heap.ipynb\" target=\"_parent\"><img src=\"https://colab.research.google.com/assets/colab-badge.svg\" alt=\"Open In Colab\"/></a>"
      ]
    },
    {
      "cell_type": "markdown",
      "source": [
        "## Heap Algorithm\n",
        "### Jongwook Woo, jwoo5@calstatela.edu\n",
        "Date: 06/22/2022\n",
        "\n",
        "### References\n",
        "1. https://www.geeksforgeeks.org/max-heap-in-python/\n",
        "1. https://www.programiz.com/dsa/heap-data-structure\n"
      ],
      "metadata": {
        "id": "LvkU2LvyezI1"
      }
    },
    {
      "cell_type": "code",
      "source": [
        ""
      ],
      "metadata": {
        "id": "QLZ1jwdG-9YV"
      },
      "execution_count": null,
      "outputs": []
    },
    {
      "cell_type": "code",
      "source": [
        "# Python3 implementation of Max Heap\n",
        "import sys\n",
        "\n",
        "class MaxHeap:\n",
        "\n",
        "\tdef __init__(self, maxsize):\n",
        "\t\t\n",
        "\t\tself.maxsize = maxsize\n",
        "\t\tself.size = 0\n",
        "\t\tself.Heap = [0] * (self.maxsize + 1)\n",
        "\t\tself.Heap[0] = sys.maxsize\n",
        "\t\tself.FRONT = 1\n",
        "\n",
        "\t# Function to return the position of\n",
        "\t# parent for the node currently\n",
        "\t# at pos\n",
        "\tdef parent(self, pos):\t\n",
        "\t\treturn pos // 2\n",
        "\n",
        "\t# Function to return the position of\n",
        "\t# the left child for the node currently\n",
        "\t# at pos\n",
        "\tdef leftChild(self, pos):\t\t\n",
        "\t\treturn 2 * pos\n",
        "\n",
        "\t# Function to return the position of\n",
        "\t# the right child for the node currently\n",
        "\t# at pos\n",
        "\tdef rightChild(self, pos):\t\n",
        "\t\treturn (2 * pos) + 1\n",
        "\n",
        "\t# Function that returns true if the passed\n",
        "\t# node is a leaf node\n",
        "\tdef isLeaf(self, pos):\t\t\n",
        "\t\tif pos >= (self.size//2) and pos <= self.size:\n",
        "\t\t\treturn True\n",
        "\t\treturn False\n",
        "\n",
        "\t# Function to swap two nodes of the heap\n",
        "\tdef swap(self, fpos, spos):\t\t\n",
        "\t\tself.Heap[fpos], self.Heap[spos] = (self.Heap[spos],self.Heap[fpos])\n",
        "\n",
        "\t# Function to heapify the node at pos\n",
        "\tdef maxHeapify(self, pos):\n",
        "\t\t# If the node is a non-leaf node and smaller\n",
        "\t\t# than any of its child\n",
        "\t\tif not self.isLeaf(pos):\n",
        "\t\t\tif (self.Heap[pos] < self.Heap[self.leftChild(pos)] or\n",
        "\t\t\t\tself.Heap[pos] < self.Heap[self.rightChild(pos)]):\n",
        "\n",
        "\t\t\t\t# Swap with the left child and heapify\n",
        "\t\t\t\t# the left child\n",
        "\t\t\t\tif (self.Heap[self.leftChild(pos)] >\n",
        "\t\t\t\t\tself.Heap[self.rightChild(pos)]):\n",
        "\t\t\t\t\tself.swap(pos, self.leftChild(pos))\n",
        "\t\t\t\t\tself.maxHeapify(self.leftChild(pos))\n",
        "\n",
        "\t\t\t\t# Swap with the right child and heapify\n",
        "\t\t\t\t# the right child\n",
        "\t\t\t\telse:\n",
        "\t\t\t\t\tself.swap(pos, self.rightChild(pos))\n",
        "\t\t\t\t\tself.maxHeapify(self.rightChild(pos))\n",
        "\n",
        "\t# Function to insert a node into the heap\n",
        "\tdef insert(self, element):\t\t\n",
        "\t\tif self.size >= self.maxsize:\n",
        "\t\t\treturn\n",
        "\t\tself.size += 1\n",
        "\t\tself.Heap[self.size] = element\n",
        "\n",
        "\t\tcurrent = self.size\n",
        "\n",
        "\t\twhile (self.Heap[current] >\n",
        "\t\t\tself.Heap[self.parent(current)]):\n",
        "\t\t\tself.swap(current, self.parent(current))\n",
        "\t\t\tcurrent = self.parent(current)\n",
        "\n",
        "\t# Function to print the contents of the heap\n",
        "\tdef Print(self):\n",
        "\t\tfor i in range(1, (self.size // 2) + 1):\n",
        "\t\t\tprint(\"PARENT : \" + str(self.Heap[i]) +\n",
        "\t\t\t\t\" LEFT CHILD : \" + str(self.Heap[2 * i]) +\n",
        "\t\t\t\t\" RIGHT CHILD : \" + str(self.Heap[2 * i + 1]))\n",
        "\n",
        "\t# Function to remove and return the maximum\n",
        "\t# element from the heap\n",
        "\tdef extractMax(self):\n",
        "\t\tpopped = self.Heap[self.FRONT]\n",
        "\t\tself.Heap[self.FRONT] = self.Heap[self.size]\n",
        "\t\tself.size -= 1\n",
        "\t\tself.maxHeapify(self.FRONT)\n",
        "\t\t\n",
        "\t\treturn popped\n",
        "\n",
        "# Driver Code\n",
        "print('The maxHeap is ')\n",
        "\t\n",
        "maxHeap = MaxHeap(3)\n",
        "maxHeap.insert(9)\n",
        "maxHeap.insert(5)\n",
        "maxHeap.insert(1)\n",
        "maxHeap.insert(4)\n",
        "maxHeap.insert(2)\n",
        "\n",
        "maxHeap.Print()\n",
        "\n",
        "print(\"The Max val is \" + str(maxHeap.extractMax()))\n"
      ],
      "metadata": {
        "colab": {
          "base_uri": "https://localhost:8080/"
        },
        "id": "MsS8XJ6H8hVW",
        "outputId": "854faf79-333c-4806-ab20-e5e4af538572"
      },
      "execution_count": 1,
      "outputs": [
        {
          "output_type": "stream",
          "name": "stdout",
          "text": [
            "The maxHeap is \n",
            "PARENT : 9 LEFT CHILD : 5 RIGHT CHILD : 1\n",
            "The Max val is 9\n"
          ]
        }
      ]
    },
    {
      "cell_type": "code",
      "source": [
        "def max_heap(arry, size):\n",
        "  for i in range(size, 0):\n",
        "    heapify(arry, size, i)"
      ],
      "metadata": {
        "id": "pDSjd5o7ZZOX"
      },
      "execution_count": 2,
      "outputs": []
    },
    {
      "cell_type": "code",
      "source": [
        "\n",
        "import heapq\n",
        "\n",
        "# H = [21,1,45,78,3,5]\n",
        "H = [-3, -9, -5, -1, -4, -2]\n",
        "# Use heapify to rearrange the elements\n",
        "heapq.heapify(H)\n",
        "print(H)"
      ],
      "metadata": {
        "colab": {
          "base_uri": "https://localhost:8080/"
        },
        "id": "M38e5atrmyjS",
        "outputId": "929185c5-feb7-41d8-e8a7-1114948e936b"
      },
      "execution_count": 3,
      "outputs": [
        {
          "output_type": "stream",
          "name": "stdout",
          "text": [
            "[-9, -4, -5, -1, -3, -2]\n"
          ]
        }
      ]
    },
    {
      "cell_type": "code",
      "execution_count": 4,
      "metadata": {
        "id": "gINlsKnoewZ_"
      },
      "outputs": [],
      "source": [
        "# Max-Heap data structure in Python\n",
        "def heapify(arr, n, i):\n",
        "    largest = i\n",
        "    l = 2 * i + 1\n",
        "    r = 2 * i + 2 \n",
        "    \n",
        "    if l < n and arr[i] < arr[l]:\n",
        "        largest = l\n",
        "    \n",
        "    if r < n and arr[largest] < arr[r]:\n",
        "        largest = r\n",
        "    \n",
        "    if largest != i:\n",
        "        arr[i],arr[largest] = arr[largest],arr[i]\n",
        "        heapify(arr, n, largest)  \n",
        "\n",
        "      \n"
      ]
    },
    {
      "cell_type": "code",
      "source": [
        "arr = [3, 9, 5, 1, 4, 2]\n",
        "size = len(arr)\n",
        "largest = size//2 - 1\n",
        "#max_heap(arr, size)\n"
      ],
      "metadata": {
        "id": "DwLXpNfJmIwZ"
      },
      "execution_count": 5,
      "outputs": []
    },
    {
      "cell_type": "code",
      "source": [
        "for i in range((len(arr)//2)-1, -1, -1):\n",
        "        heapify(arr, len(arr), i)\n",
        "print (\"Heaperfied array: \" + str(arr))"
      ],
      "metadata": {
        "colab": {
          "base_uri": "https://localhost:8080/"
        },
        "id": "e4Xu-iSC-nVr",
        "outputId": "bebaadda-9e0c-4e9a-e448-b4fca6de14b9"
      },
      "execution_count": 6,
      "outputs": [
        {
          "output_type": "stream",
          "name": "stdout",
          "text": [
            "Heaperfied array: [9, 4, 5, 1, 3, 2]\n"
          ]
        }
      ]
    },
    {
      "cell_type": "code",
      "source": [
        "def insert(array, newNum):\n",
        "    size = len(array)\n",
        "    if size == 0:\n",
        "        array.append(newNum)\n",
        "    else:\n",
        "        array.append(newNum);\n",
        "        size = len(array) #jwoo\n",
        "        for i in range((size//2)-1, -1, -1):\n",
        "            heapify(array, size, i)\n",
        "\n"
      ],
      "metadata": {
        "id": "iQ7J1XH9fKSo"
      },
      "execution_count": 7,
      "outputs": []
    },
    {
      "cell_type": "code",
      "source": [
        "def deleteNode(array, num):\n",
        "    size = len(array)\n",
        "    i = 0\n",
        "    for i in range(0, size):\n",
        "        if num == array[i]:\n",
        "            break\n",
        "        \n",
        "    array[i], array[size-1] = array[size-1], array[i]\n",
        "\n",
        "    array.remove(num)\n",
        "    \n",
        "    for i in range((len(array)//2)-1, -1, -1):\n",
        "        heapify(array, len(array), i)"
      ],
      "metadata": {
        "id": "wdmXuAwhfP1o"
      },
      "execution_count": 8,
      "outputs": []
    },
    {
      "cell_type": "code",
      "source": [
        "arr = []\n",
        "\n",
        "insert(arr, 3)\n",
        "insert(arr, 9)\n",
        "insert(arr, 2)\n",
        "insert(arr, 1)\n",
        "insert(arr, 4)\n",
        "insert(arr, 5)\n",
        "\n",
        "\n",
        "print (\"Max-Heap array: \" + str(arr))\n",
        "\n"
      ],
      "metadata": {
        "colab": {
          "base_uri": "https://localhost:8080/"
        },
        "id": "VltKLCYPfFu9",
        "outputId": "7745246b-55fc-490e-8845-e0c2b2fbee9e"
      },
      "execution_count": 9,
      "outputs": [
        {
          "output_type": "stream",
          "name": "stdout",
          "text": [
            "Max-Heap array: [9, 4, 5, 1, 3, 2]\n"
          ]
        }
      ]
    },
    {
      "cell_type": "code",
      "source": [
        "deleteNode(arr, 4)\n",
        "print(\"After deleting an element: \" + str(arr))"
      ],
      "metadata": {
        "id": "P0FWkZRz_1_d",
        "outputId": "ff6fba40-9c34-4534-eb30-029c8c48626b",
        "colab": {
          "base_uri": "https://localhost:8080/"
        }
      },
      "execution_count": 10,
      "outputs": [
        {
          "output_type": "stream",
          "name": "stdout",
          "text": [
            "After deleting an element: [9, 3, 5, 1, 2]\n"
          ]
        }
      ]
    },
    {
      "cell_type": "markdown",
      "source": [
        "### Heap Sort\n",
        "References:\n",
        "1. https://www.geeksforgeeks.org/python-program-for-heap-sort/\n",
        "1. https://www.programiz.com/dsa/heap-sort"
      ],
      "metadata": {
        "id": "9sijaNby3zeh"
      }
    },
    {
      "cell_type": "code",
      "source": [
        "# [1,2]]\n",
        "def heap_sort(arr):\n",
        "    n = len(arr)\n",
        "  \n",
        "    # Build max heap\n",
        "    for i in range(n//2, -1, -1):\n",
        "        heapify(arr, n, i)\n",
        "    \n",
        "    # One by one extract elements [1]\n",
        "    for i in range(n-1, 0, -1): \n",
        "        arr[i], arr[0] = arr[0], arr[i] # swap \n",
        "        heapify(arr, i, 0) "
      ],
      "metadata": {
        "id": "Nlc1SPl93upt"
      },
      "execution_count": 11,
      "outputs": []
    },
    {
      "cell_type": "code",
      "source": [
        "arr = [3, 9, 2, 1, 4, 5]\n",
        "\n",
        "heap_sort(arr)\n",
        "\n",
        "n = len(arr)\n",
        "print(\"Sorted array is\")\n",
        "for i in range(n):\n",
        "   print(\"%d \" % arr[i], end='')"
      ],
      "metadata": {
        "id": "65Chu8ru3_aa",
        "outputId": "53283ccf-f4d5-4ed1-d13b-e125eeb02b7b",
        "colab": {
          "base_uri": "https://localhost:8080/"
        }
      },
      "execution_count": 12,
      "outputs": [
        {
          "output_type": "stream",
          "name": "stdout",
          "text": [
            "Sorted array is\n",
            "1 2 3 4 5 9 "
          ]
        }
      ]
    }
  ]
}
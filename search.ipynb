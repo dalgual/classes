{
  "nbformat": 4,
  "nbformat_minor": 0,
  "metadata": {
    "colab": {
      "name": "search.ipynb",
      "provenance": [],
      "authorship_tag": "ABX9TyMeulGH/pky2VIXGBypLaiO",
      "include_colab_link": true
    },
    "kernelspec": {
      "name": "python3",
      "display_name": "Python 3"
    },
    "language_info": {
      "name": "python"
    }
  },
  "cells": [
    {
      "cell_type": "markdown",
      "metadata": {
        "id": "view-in-github",
        "colab_type": "text"
      },
      "source": [
        "<a href=\"https://colab.research.google.com/github/dalgual/classes/blob/main/search.ipynb\" target=\"_parent\"><img src=\"https://colab.research.google.com/assets/colab-badge.svg\" alt=\"Open In Colab\"/></a>"
      ]
    },
    {
      "cell_type": "markdown",
      "source": [
        "## Search Example\n",
        "### Jongwook Woo, jwoo5@calstatela.edu\n",
        "Date: 06/06/2022\n",
        "\n",
        "### References\n",
        "1. https://www.programiz.com/dsa/linear-search"
      ],
      "metadata": {
        "id": "GmgxatCujNsr"
      }
    },
    {
      "cell_type": "code",
      "execution_count": 5,
      "metadata": {
        "id": "ON_Wj5yjjLnq"
      },
      "outputs": [],
      "source": [
        "# Linear Search in Python\n",
        "# n: no of array elements, x: key value to search\n",
        "def linearSearch(array, n, x):\n",
        "    # Going through array sequentially\n",
        "    for i in range(0, n): # O(n)\n",
        "        if (array[i] == x):\n",
        "            return i\n",
        "    return -1"
      ]
    },
    {
      "cell_type": "code",
      "source": [
        "tmp_array = [2, 4, 0, 1, 9]\n",
        "x = 1\n",
        "n = len(tmp_array)\n",
        "result = linearSearch(tmp_array, n, x)\n",
        "if(result == -1):\n",
        "    print(\"Element not found\")\n",
        "else:\n",
        "    print(\"Element found at index: \", result)"
      ],
      "metadata": {
        "colab": {
          "base_uri": "https://localhost:8080/"
        },
        "id": "gwwtQnZRjt6G",
        "outputId": "d32a35b3-ba1c-45b0-99e6-c3fdeb52f4c8"
      },
      "execution_count": 6,
      "outputs": [
        {
          "output_type": "stream",
          "name": "stdout",
          "text": [
            "Element found at index:  3\n"
          ]
        }
      ]
    },
    {
      "cell_type": "markdown",
      "source": [
        "## Binary Search: Iteration Method"
      ],
      "metadata": {
        "id": "ioM-KlNjpxie"
      }
    },
    {
      "cell_type": "code",
      "source": [
        "def binarySearchIter(arry, key, low, high):\n",
        "  # Repeat until the pointers low and high meet each other\n",
        "  while low <= high:\n",
        "    mid = int((low + high) / 2) # integer value\n",
        "    if key  == arry[mid] :\n",
        "      return mid\n",
        "    elif key > arry[mid]:\n",
        "      low = mid + 1\n",
        "    else:\n",
        "      high = mid - 1\n",
        "  \n",
        "  return -1\n"
      ],
      "metadata": {
        "id": "oK7ZsqDOp8uL"
      },
      "execution_count": 31,
      "outputs": []
    },
    {
      "cell_type": "code",
      "source": [
        "# Sorted Array should be a input: Important\n",
        "tmp_array = [3, 4, 5, 6, 7, 8, 9]\n",
        "x = 4 # test the keys to find: 4, 6, 8\n",
        "\n",
        "result = binarySearchIter(tmp_array, x, 0, len(tmp_array)-1)\n",
        "if(result == -1):\n",
        "    print(\"Element not found\")\n",
        "else:\n",
        "    print(\"Element found at index: \", result)"
      ],
      "metadata": {
        "colab": {
          "base_uri": "https://localhost:8080/"
        },
        "id": "rHrH8neBvQlc",
        "outputId": "de69aef9-e694-4ce6-e965-a65c90c449e7"
      },
      "execution_count": 32,
      "outputs": [
        {
          "output_type": "stream",
          "name": "stdout",
          "text": [
            "Element found at index:  1\n"
          ]
        }
      ]
    },
    {
      "cell_type": "markdown",
      "source": [
        "## Binary Search: Recursive Method"
      ],
      "metadata": {
        "id": "64Xv8iJcp3sk"
      }
    },
    {
      "cell_type": "code",
      "source": [
        "def binarySearchRcsv(arry, key, low, high):\n",
        "  # Repeat until the pointers low and high meet each other\n",
        "  if high >= low:\n",
        "    mid = int((low + high) / 2) # integer value\n",
        "    if key  == arry[mid] :\n",
        "      return mid\n",
        "    elif key > arry[mid]:\n",
        "      return binarySearchRcsv(arry, key, mid + 1, high) \n",
        "    else:\n",
        "      return binarySearchRcsv(arry, key, low, mid - 1) \n",
        "  else:\n",
        "    return -1\n"
      ],
      "metadata": {
        "id": "yQHXcRr30jwx"
      },
      "execution_count": 41,
      "outputs": []
    },
    {
      "cell_type": "code",
      "source": [
        "# Sorted Array should be a input: Important\n",
        "tmp_array = [3, 4, 5, 6, 7, 8, 9]\n",
        "x = 4 # test the keys to find: 4, 6, 8\n",
        "\n",
        "result = binarySearchRcsv(tmp_array, x, 0, len(tmp_array)-1)\n",
        "if(result == -1):\n",
        "    print(\"Element not found\")\n",
        "else:\n",
        "    print(\"Element found at index: \", result)"
      ],
      "metadata": {
        "colab": {
          "base_uri": "https://localhost:8080/"
        },
        "id": "xdu5iBDJ1QNp",
        "outputId": "99fcf8a7-77de-4ce0-dad8-460bb4633c0d"
      },
      "execution_count": 43,
      "outputs": [
        {
          "output_type": "stream",
          "name": "stdout",
          "text": [
            "Element found at index:  1\n"
          ]
        }
      ]
    },
    {
      "cell_type": "markdown",
      "source": [
        "## Binary Search in Class: Recursive Method"
      ],
      "metadata": {
        "id": "1_7i1iIO289w"
      }
    },
    {
      "cell_type": "code",
      "source": [
        "class Search:\n",
        "  # Method for binary search: self should be an argument\n",
        "  def binarySearchRcsv(self, arry, key, low, high):\n",
        "    # Repeat until the pointers low and high meet each other\n",
        "    if high >= low:\n",
        "      mid = int((low + high) / 2) # integer value\n",
        "      if key  == arry[mid] :\n",
        "        return mid\n",
        "      elif key > arry[mid]:\n",
        "        return binarySearchRcsv(arry, key, mid + 1, high) \n",
        "      else:\n",
        "        return binarySearchRcsv(arry, key, low, mid - 1) \n",
        "    else:\n",
        "      return -1\n",
        "      \n",
        "  def binarySearchStatic(arry, key, low, high):\n",
        "    # Repeat until the pointers low and high meet each other\n",
        "    if high >= low:\n",
        "      mid = int((low + high) / 2) # integer value\n",
        "      if key  == arry[mid] :\n",
        "        return mid\n",
        "      elif key > arry[mid]:\n",
        "        return binarySearchRcsv(arry, key, mid + 1, high)\n",
        "      else:\n",
        "        return binarySearchRcsv(arry, key, low, mid - 1)\n",
        "    else:\n",
        "      return -1\n",
        "      \n",
        "  # https://www.programiz.com/python-programming/methods/built-in/classmethod\n",
        "  @classmethod\n",
        "  def binarySearchClass(cls, arry, key, low, high):\n",
        "    # Repeat until the pointers low and high meet each other\n",
        "    if high >= low:\n",
        "      mid = int((low + high) / 2) # integer value\n",
        "      if key  == arry[mid] :\n",
        "        return cls(mid)\n",
        "      elif key > arry[mid]:\n",
        "        return cls(binarySearchRcsv(arry, key, mid + 1, high))\n",
        "      else:\n",
        "        return cls(binarySearchRcsv(arry, key, low, mid - 1))\n",
        "    else:\n",
        "      return -1"
      ],
      "metadata": {
        "id": "B4Df-Kdo22AG"
      },
      "execution_count": 68,
      "outputs": []
    },
    {
      "cell_type": "code",
      "source": [
        "# Sorted Array should be a input: Important\n",
        "tmp_array = [3, 4, 5, 6, 7, 8, 9]\n",
        "x = 8 # test the keys to find: 4, 6, 8\n",
        "\n",
        "searchRcsv = Search()\n",
        "result = searchRcsv.binarySearchRcsv(tmp_array, x, 0, len(tmp_array)-1)\n",
        "if(result == -1):\n",
        "    print(\"Element not found\")\n",
        "else:\n",
        "    print(\"Element found at index: \", result)\n",
        "\n",
        "result = Search.binarySearchStatic(tmp_array, x, 0, len(tmp_array)-1)\n",
        "if(result == -1):\n",
        "    print(\"Element not found\")\n",
        "else:\n",
        "    print(\"Element found at index: \", result)\n"
      ],
      "metadata": {
        "colab": {
          "base_uri": "https://localhost:8080/"
        },
        "id": "2u6f_MOu3d3c",
        "outputId": "a7f74e68-c76b-49ce-cab7-244e0488845e"
      },
      "execution_count": 70,
      "outputs": [
        {
          "output_type": "stream",
          "name": "stdout",
          "text": [
            "Element found at index:  5\n",
            "Element found at index:  5\n"
          ]
        }
      ]
    }
  ]
}
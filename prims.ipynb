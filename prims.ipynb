{
  "nbformat": 4,
  "nbformat_minor": 0,
  "metadata": {
    "colab": {
      "name": "prims.ipynb",
      "provenance": [],
      "authorship_tag": "ABX9TyNWEXr8qlndi3VOp0EvE/bm",
      "include_colab_link": true
    },
    "kernelspec": {
      "name": "python3",
      "display_name": "Python 3"
    },
    "language_info": {
      "name": "python"
    }
  },
  "cells": [
    {
      "cell_type": "markdown",
      "metadata": {
        "id": "view-in-github",
        "colab_type": "text"
      },
      "source": [
        "<a href=\"https://colab.research.google.com/github/dalgual/classes/blob/main/prims.ipynb\" target=\"_parent\"><img src=\"https://colab.research.google.com/assets/colab-badge.svg\" alt=\"Open In Colab\"/></a>"
      ]
    },
    {
      "cell_type": "markdown",
      "source": [
        "## Prim's Algorithm\n",
        "### Jongwook Woo, jwoo5@calstatela.edu\n",
        "Date: 06/22/2022\n",
        "\n",
        "### References\n",
        "1. https://www.programiz.com/dsa/prim-algorithm\n"
      ],
      "metadata": {
        "id": "BW7cQi7OeQxP"
      }
    },
    {
      "cell_type": "code",
      "execution_count": 1,
      "metadata": {
        "id": "Ew27M3fCeLk2"
      },
      "outputs": [],
      "source": [
        "# Prim's Algorithm in Python\n",
        "\n",
        "\n",
        "INF = 9999999\n",
        "# number of vertices in graph\n",
        "V = 5\n",
        "# create a 2d array of size 5x5\n",
        "# for adjacency matrix to represent graph\n",
        "G = [[0, 9, 75, 0, 0],\n",
        "     [9, 0, 95, 19, 42],\n",
        "     [75, 95, 0, 51, 66],\n",
        "     [0, 19, 51, 0, 31],\n",
        "     [0, 42, 66, 31, 0]]\n"
      ]
    },
    {
      "cell_type": "code",
      "source": [
        "V = 6\n",
        "# create a 2d array of size 5x5\n",
        "# for adjacency matrix to represent graph\n",
        "G = [[0,  4,  4,  0,  0, 0],\n",
        "     [4,  0,  2,  0,  0, 0],\n",
        "     [4,  2,  0,  3,  2, 4],\n",
        "     [0,  0,  3,  0,  0, 3],\n",
        "     [0,  0,  2,  0,  0, 3],\n",
        "     [0,  0,  4,  3,  3, 0]]\n"
      ],
      "metadata": {
        "id": "HLncGADHeqT1"
      },
      "execution_count": 2,
      "outputs": []
    },
    {
      "cell_type": "code",
      "source": [
        "# create a array to track selected vertex\n",
        "# selected will become true otherwise false\n",
        "selected = [0, 0, 0, 0, 0, 0]\n",
        "# set number of edge to 0\n",
        "no_edge = 0\n",
        "# the number of egde in minimum spanning tree will be\n",
        "# always less than(V - 1), where V is number of vertices in\n",
        "# graph\n",
        "# choose 0th vertex and make it true\n",
        "selected[0] = True\n",
        "# print for edge and weight\n",
        "print(\"Edge : Weight\\n\")\n",
        "while (no_edge < V - 1):\n",
        "    # For every vertex in the set S, find the all adjacent vertices\n",
        "    #, calculate the distance from the vertex selected at step 1.\n",
        "    # if the vertex is already in the set S, discard it otherwise\n",
        "    # choose another vertex nearest to selected vertex  at step 1.\n",
        "    minimum = INF\n",
        "    x = 0\n",
        "    y = 0\n",
        "    for i in range(V):\n",
        "        if selected[i]:\n",
        "            for j in range(V):\n",
        "                if ((not selected[j]) and G[i][j]):  \n",
        "                    # not in selected and there is an edge\n",
        "                    if minimum > G[i][j]:\n",
        "                        minimum = G[i][j]\n",
        "                        x = i\n",
        "                        y = j\n",
        "    print(str(x) + \"-\" + str(y) + \":\" + str(G[x][y]))\n",
        "    selected[y] = True\n",
        "    no_edge += 1"
      ],
      "metadata": {
        "colab": {
          "base_uri": "https://localhost:8080/"
        },
        "id": "wUSkQZ5YeaDr",
        "outputId": "25439b7a-a07b-44eb-913f-ce68aee9c1d2"
      },
      "execution_count": 4,
      "outputs": [
        {
          "output_type": "stream",
          "name": "stdout",
          "text": [
            "Edge : Weight\n",
            "\n",
            "0-1:4\n",
            "1-2:2\n",
            "2-4:2\n",
            "2-3:3\n",
            "3-5:3\n"
          ]
        }
      ]
    }
  ]
}
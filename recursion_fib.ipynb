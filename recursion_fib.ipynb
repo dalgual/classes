{
  "nbformat": 4,
  "nbformat_minor": 0,
  "metadata": {
    "colab": {
      "name": "recursion_fib.ipynb",
      "provenance": [],
      "authorship_tag": "ABX9TyM4CS7Ha717TCLNfm8HTUDg",
      "include_colab_link": true
    },
    "kernelspec": {
      "name": "python3",
      "display_name": "Python 3"
    },
    "language_info": {
      "name": "python"
    }
  },
  "cells": [
    {
      "cell_type": "markdown",
      "metadata": {
        "id": "view-in-github",
        "colab_type": "text"
      },
      "source": [
        "<a href=\"https://colab.research.google.com/github/dalgual/classes/blob/main/recursion_fib.ipynb\" target=\"_parent\"><img src=\"https://colab.research.google.com/assets/colab-badge.svg\" alt=\"Open In Colab\"/></a>"
      ]
    },
    {
      "cell_type": "markdown",
      "source": [
        "## Recursion Example\n",
        "### Jongwook Woo, jwoo5@calstatela.edu\n",
        "Date: 07/01/2022\n",
        "\n",
        "### References\n",
        "1. https://medium.com/nerd-for-tech/practically-understanding-time-complexities-of-recursive-and-iterative-functions-95238525c145\n",
        "1. https://realpython.com/fibonacci-sequence-python/\n",
        "1. https://pythonistaplanet.com/fibonacci-sequence-iterative/\n",
        "1. https://pythonistaplanet.com/recursion-exercises-in-python/\n",
        "1. https://www.interviewkickstart.com/learn/difference-between-recursion-and-iteration\n"
      ],
      "metadata": {
        "id": "1IG05m5Kn-a4"
      }
    },
    {
      "cell_type": "code",
      "source": [
        "import time"
      ],
      "metadata": {
        "id": "QKFO4bXh1JPC"
      },
      "execution_count": 91,
      "outputs": []
    },
    {
      "cell_type": "code",
      "execution_count": 92,
      "metadata": {
        "id": "vsOUdQI-n7g9"
      },
      "outputs": [],
      "source": [
        " # Iterative fibonacci\n",
        " \n",
        "def iterative_fib(n):\n",
        "    a,b=0,1\n",
        "    # Initially the first: 0, The second: 1\n",
        "    if n<=1:\n",
        "      return n\n",
        "    for i in range(n):\n",
        "      tmp=a+b\n",
        "      a=b\n",
        "      b=tmp\n",
        "      #print(\"a:\", a, \" b:\", b)\n",
        "\n",
        "    return a\n"
      ]
    },
    {
      "cell_type": "code",
      "source": [
        "# 0, 1, 1, 2, 3, 5, 8, 13 => 6th item with the intial 2 items : 5\n",
        "count = int(input(\"Enter the limit: \"))\n",
        "\n",
        "if count<=0:\n",
        "  print(\"Enter a number greater than 0\")\n",
        "else:\n",
        "  for i in range(count):\n",
        "    print(iterative_fib(i),end=\" \")"
      ],
      "metadata": {
        "colab": {
          "base_uri": "https://localhost:8080/"
        },
        "id": "xyRxNS-lo55h",
        "outputId": "78ec4a0f-c3fb-4424-996f-f6058b9e760b"
      },
      "execution_count": 93,
      "outputs": [
        {
          "output_type": "stream",
          "name": "stdout",
          "text": [
            "Enter the limit: 5\n",
            "0 1 1 2 3 "
          ]
        }
      ]
    },
    {
      "cell_type": "code",
      "source": [
        "def fibonacci(n):\n",
        "    a,b = 0,1\n",
        "    # Initially the first: 0, The second: 1\n",
        "    if n<=1:\n",
        "      return n\n",
        "\n",
        "    for i in range(n):\n",
        "        a,b = b,a+b\n",
        "        #print(\"a:\", a, \" b:\", b)\n",
        "    return a\n",
        "\n"
      ],
      "metadata": {
        "id": "-XlM99j_qhIs"
      },
      "execution_count": 94,
      "outputs": []
    },
    {
      "cell_type": "code",
      "source": [
        "count = int(input(\"Enter the limit: \"))\n",
        "start = time.time()\n",
        "\n",
        "if count<=0:\n",
        "  print(\"Enter a number greater than 0\")\n",
        "else:\n",
        "  for i in range(count):\n",
        "    print(fibonacci(i),end=\" \")\n",
        "\n",
        "print(\"\\n Iteration execution time: {}\".format(time.time() - start))  "
      ],
      "metadata": {
        "colab": {
          "base_uri": "https://localhost:8080/"
        },
        "id": "59bGtjn7tYXB",
        "outputId": "26f1811b-26b7-4139-db92-41ec4ab5d620"
      },
      "execution_count": 100,
      "outputs": [
        {
          "output_type": "stream",
          "name": "stdout",
          "text": [
            "Enter the limit: 45\n",
            "0 1 1 2 3 5 8 13 21 34 55 89 144 233 377 610 987 1597 2584 4181 6765 10946 17711 28657 46368 75025 121393 196418 317811 514229 832040 1346269 2178309 3524578 5702887 9227465 14930352 24157817 39088169 63245986 102334155 165580141 267914296 433494437 701408733 \n",
            " Iteration execution time: 0.0027780532836914062\n"
          ]
        }
      ]
    },
    {
      "cell_type": "markdown",
      "source": [
        "### Recursive Fibonacci"
      ],
      "metadata": {
        "id": "HhKgplkWo6bY"
      }
    },
    {
      "cell_type": "code",
      "source": [
        "def recursive_fib(n):\n",
        "  if n<=1:\n",
        "    return n\n",
        "  else:\n",
        "    return recursive_fib(n-1) + recursive_fib(n-2)\n",
        "\n"
      ],
      "metadata": {
        "id": "68NYcplTvP7h"
      },
      "execution_count": 96,
      "outputs": []
    },
    {
      "cell_type": "code",
      "source": [
        "count = int(input(\"Enter the limit: \"))\n",
        "start = time.time()\n",
        "if count<=0:\n",
        "  print(\"Enter a number greater than 0\")\n",
        "else:\n",
        "  for i in range(count):\n",
        "    print(recursive_fib(i),end=\" \")\n",
        "\n",
        "print(\"\\n Recursion execution time: {}\".format(time.time() - start))  "
      ],
      "metadata": {
        "colab": {
          "base_uri": "https://localhost:8080/"
        },
        "id": "CZ9tJMczvTJh",
        "outputId": "09a2f913-6e63-48c3-af11-027544eb9b25"
      },
      "execution_count": 101,
      "outputs": [
        {
          "output_type": "stream",
          "name": "stdout",
          "text": [
            "Enter the limit: 45\n",
            "0 1 1 2 3 5 8 13 21 34 55 89 144 233 377 610 987 1597 2584 4181 6765 10946 17711 28657 46368 75025 121393 196418 317811 514229 832040 1346269 2178309 3524578 5702887 9227465 14930352 24157817 39088169 63245986 102334155 165580141 267914296 433494437 701408733 \n",
            " Recursion execution time: 701.3604488372803\n"
          ]
        }
      ]
    },
    {
      "cell_type": "markdown",
      "source": [
        "### Cached Fibonacci Recursion\n",
        "## I dont see any update: 07/02/2022"
      ],
      "metadata": {
        "id": "Ws-ojkgRCq7f"
      }
    },
    {
      "cell_type": "code",
      "source": [
        "cache = {0: 0, 1: 1}\n",
        "\n",
        "def recursive_fib_cached(n):\n",
        "  if n in cache:  # Base case\n",
        "    return cache[n]\n",
        "\n",
        "  cache[n] = recursive_fib(n-1) + recursive_fib(n-2)\n",
        "  \n",
        "  return cache[n] \n",
        "\n"
      ],
      "metadata": {
        "id": "UFZfiwmfCpdw"
      },
      "execution_count": 102,
      "outputs": []
    },
    {
      "cell_type": "code",
      "source": [
        "count = int(input(\"Enter the limit: \"))\n",
        "start = time.time()\n",
        "if count<=0:\n",
        "  print(\"Enter a number greater than 0\")\n",
        "else:\n",
        "  for i in range(count):\n",
        "    print(recursive_fib_cached(i),end=\" \")\n",
        "\n",
        "print(\"\\n Recursion Cached execution time: {}\".format(time.time() - start))  "
      ],
      "metadata": {
        "colab": {
          "base_uri": "https://localhost:8080/"
        },
        "id": "Ac_EFbXa17ny",
        "outputId": "0e4a6fca-9488-4db2-c9e1-22435bebc157"
      },
      "execution_count": 103,
      "outputs": [
        {
          "output_type": "stream",
          "name": "stdout",
          "text": [
            "Enter the limit: 45\n",
            "0 1 1 2 3 5 8 13 21 34 55 89 144 233 377 610 987 1597 2584 4181 6765 10946 17711 28657 46368 75025 121393 196418 317811 514229 832040 1346269 2178309 3524578 5702887 9227465 14930352 24157817 39088169 63245986 102334155 165580141 267914296 433494437 701408733 \n",
            " Recursion Cached execution time: 701.3585977554321\n"
          ]
        }
      ]
    }
  ]
}
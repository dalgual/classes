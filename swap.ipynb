{
  "nbformat": 4,
  "nbformat_minor": 0,
  "metadata": {
    "colab": {
      "name": "swap.ipynb",
      "provenance": [],
      "authorship_tag": "ABX9TyP3ZbLn14bEXURNQ03io/wc",
      "include_colab_link": true
    },
    "kernelspec": {
      "name": "python3",
      "display_name": "Python 3"
    },
    "language_info": {
      "name": "python"
    }
  },
  "cells": [
    {
      "cell_type": "markdown",
      "metadata": {
        "id": "view-in-github",
        "colab_type": "text"
      },
      "source": [
        "<a href=\"https://colab.research.google.com/github/dalgual/classes/blob/main/swap.ipynb\" target=\"_parent\"><img src=\"https://colab.research.google.com/assets/colab-badge.svg\" alt=\"Open In Colab\"/></a>"
      ]
    },
    {
      "cell_type": "markdown",
      "source": [
        "## Swap List Elements Example\n",
        "### Jongwook Woo, jwoo5@calstatela.edu\n",
        "Date: 06/06/2022\n",
        "\n",
        "### References\n",
        "1. https://www.geeksforgeeks.org/python-program-to-swap-two-elements-in-a-list/"
      ],
      "metadata": {
        "id": "EDXYK9dCcJ9j"
      }
    },
    {
      "cell_type": "code",
      "execution_count": 13,
      "metadata": {
        "id": "hijgdMCqcGuh"
      },
      "outputs": [],
      "source": [
        "# Swap function 1\n",
        "def swapPositions1(list, pos1, pos2):     \n",
        "    list[pos1] = list[pos2]\n",
        "    list[pos2] = list[pos1]\n",
        "    return list\n"
      ]
    },
    {
      "cell_type": "code",
      "source": [
        "# Driver function\n",
        "List = [23, 65, 19, 90]\n",
        "pos1, pos2  = 1, 2\n",
        "\n",
        "# Element 1 and 2 are swapped? \n",
        "print(swapPositions1(List, pos1, pos2))\n"
      ],
      "metadata": {
        "colab": {
          "base_uri": "https://localhost:8080/"
        },
        "id": "J1IO3sH9cWjw",
        "outputId": "5e700add-703b-490e-e774-2ef2b874e161"
      },
      "execution_count": 14,
      "outputs": [
        {
          "output_type": "stream",
          "name": "stdout",
          "text": [
            "[23, 19, 19, 90]\n"
          ]
        }
      ]
    },
    {
      "cell_type": "code",
      "source": [
        "# Swap function 2\n",
        "def swapPositions2(list, pos1, pos2):\n",
        "     \n",
        "    tmp = list[pos1]\n",
        "    list[pos1] = list[pos2]\n",
        "    list[pos2] = tmp\n",
        "    return list"
      ],
      "metadata": {
        "id": "PwwHSCDudFHX"
      },
      "execution_count": 15,
      "outputs": []
    },
    {
      "cell_type": "code",
      "source": [
        "List = [23, 65, 19, 90]\n",
        "pos1, pos2  = 1, 2\n",
        "# Element 1 and 2 are swapped \n",
        "print(swapPositions2(List, pos1, pos2))"
      ],
      "metadata": {
        "colab": {
          "base_uri": "https://localhost:8080/"
        },
        "id": "vPjG-aZydE8D",
        "outputId": "20e1ef34-e3cc-4bed-fd1a-715969d0ea86"
      },
      "execution_count": 16,
      "outputs": [
        {
          "output_type": "stream",
          "name": "stdout",
          "text": [
            "[23, 19, 65, 90]\n"
          ]
        }
      ]
    },
    {
      "cell_type": "code",
      "source": [
        "# Swap function\n",
        "def swapPositions(list, pos1, pos2):\n",
        "     \n",
        "    list[pos1], list[pos2] = list[pos2], list[pos1]\n",
        "    return list"
      ],
      "metadata": {
        "id": "1rCsDdJzco7Z"
      },
      "execution_count": 17,
      "outputs": []
    },
    {
      "cell_type": "code",
      "source": [
        "List = [23, 65, 19, 90]\n",
        "pos1, pos2  = 1, 2\n",
        "# Element 1 and 2 are swapped \n",
        "print(swapPositions(List, pos1, pos2))"
      ],
      "metadata": {
        "colab": {
          "base_uri": "https://localhost:8080/"
        },
        "id": "mA5l2Wu5csYA",
        "outputId": "bb8f9e5d-7d67-43bb-b4a4-d144966d31ba"
      },
      "execution_count": 18,
      "outputs": [
        {
          "output_type": "stream",
          "name": "stdout",
          "text": [
            "[23, 19, 65, 90]\n"
          ]
        }
      ]
    }
  ]
}
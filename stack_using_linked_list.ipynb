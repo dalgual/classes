{
  "nbformat": 4,
  "nbformat_minor": 0,
  "metadata": {
    "colab": {
      "name": "stack_using_linked_list.ipynb",
      "provenance": [],
      "authorship_tag": "ABX9TyMB/suS3l4vICLCbOSxtdgC",
      "include_colab_link": true
    },
    "kernelspec": {
      "name": "python3",
      "display_name": "Python 3"
    },
    "language_info": {
      "name": "python"
    }
  },
  "cells": [
    {
      "cell_type": "markdown",
      "metadata": {
        "id": "view-in-github",
        "colab_type": "text"
      },
      "source": [
        "<a href=\"https://colab.research.google.com/github/dalgual/classes/blob/main/stack_using_linked_list.ipynb\" target=\"_parent\"><img src=\"https://colab.research.google.com/assets/colab-badge.svg\" alt=\"Open In Colab\"/></a>"
      ]
    },
    {
      "cell_type": "markdown",
      "source": [
        "## Linked List for Stack\n",
        "### Jongwook Woo, jwoo5@calstatela.edu\n",
        "Date: 07/02/2022\n",
        "\n",
        "### References\n",
        "1.https://www.tutorialspoint.com/python-program-to-implement-a-stack-using-linked-list\n",
        "1."
      ],
      "metadata": {
        "id": "mXEmbdZbo9zG"
      }
    },
    {
      "cell_type": "code",
      "execution_count": 14,
      "metadata": {
        "id": "rkVNgkiKo6FT"
      },
      "outputs": [],
      "source": [
        "class Node:\n",
        "  def __init__(self, data):\n",
        "    self.data = data\n",
        "    self.next = None\n",
        "  \n",
        "  # have a more helpful representation\n",
        "  def __repr__(self):\n",
        "    return self.data"
      ]
    },
    {
      "cell_type": "code",
      "source": [
        "class stack_structure:\n",
        "   def __init__(self):\n",
        "      self.head = None\n",
        "\n",
        "   def push_val(self, data):\n",
        "      if self.head is None:\n",
        "         self.head = Node(data)\n",
        "      else:\n",
        "         newNode = Node(data)\n",
        "         newNode.next = self.head\n",
        "         self.head = newNode\n",
        "\n",
        "   def pop_val(self):\n",
        "      if self.head is None:\n",
        "         return None\n",
        "      else:\n",
        "         del_Val = self.head.data\n",
        "         self.head = self.head.next\n",
        "         return del_Val\n",
        "  \n",
        "   # have a more helpful representation\n",
        "   def __repr__(self):\n",
        "    node = self.head\n",
        "    nodes = []\n",
        "    while node is not None:\n",
        "        nodes.append(node.data)\n",
        "        node = node.next\n",
        "    nodes.append(\"None\")\n",
        "    return \" -> \".join(nodes)"
      ],
      "metadata": {
        "id": "cVUf1ecYpVvs"
      },
      "execution_count": 15,
      "outputs": []
    },
    {
      "cell_type": "code",
      "source": [
        "my_instance = stack_structure()\n",
        "print(repr(my_instance))"
      ],
      "metadata": {
        "colab": {
          "base_uri": "https://localhost:8080/"
        },
        "id": "tf3bijoGpVil",
        "outputId": "ad264608-372a-408c-8426-e919d598ad83"
      },
      "execution_count": 16,
      "outputs": [
        {
          "output_type": "stream",
          "name": "stdout",
          "text": [
            "None\n"
          ]
        }
      ]
    },
    {
      "cell_type": "code",
      "source": [
        "while True:\n",
        "   print('push <value>')\n",
        "   print('pop')\n",
        "   print('quit')\n",
        "   my_input = input('What action would you like to perform ? ').split()\n",
        "\n",
        "   operation = my_input[0].strip().lower()\n",
        "\n",
        "   if operation == 'push':\n",
        "      my_instance.push_val(str(my_input[1]))\n",
        "      print(repr(my_instance))\n",
        "   elif operation == 'pop':\n",
        "      del_Val = my_instance.pop_val()\n",
        "      if del_Val is None:\n",
        "         print('The stack is empty.')\n",
        "      else:\n",
        "         print('The deleted value is : ', str(del_Val))\n",
        "         print(repr(my_instance))\n",
        "   elif operation == 'quit':\n",
        "      break"
      ],
      "metadata": {
        "colab": {
          "base_uri": "https://localhost:8080/"
        },
        "id": "zZ7LRdi8qI89",
        "outputId": "b2d02f70-a6c7-4302-9c32-c47d7d23611f"
      },
      "execution_count": 18,
      "outputs": [
        {
          "name": "stdout",
          "output_type": "stream",
          "text": [
            "push <value>\n",
            "pop\n",
            "quit\n",
            "What action would you like to perform ? push 3\n",
            "3 -> None\n",
            "push <value>\n",
            "pop\n",
            "quit\n",
            "What action would you like to perform ? push 2\n",
            "2 -> 3 -> None\n",
            "push <value>\n",
            "pop\n",
            "quit\n",
            "What action would you like to perform ? pop\n",
            "The deleted value is :  2\n",
            "3 -> None\n",
            "push <value>\n",
            "pop\n",
            "quit\n",
            "What action would you like to perform ? quit\n"
          ]
        }
      ]
    }
  ]
}
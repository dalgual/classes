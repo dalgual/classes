{
  "nbformat": 4,
  "nbformat_minor": 0,
  "metadata": {
    "colab": {
      "name": "linked_list2.ipynb",
      "provenance": [],
      "authorship_tag": "ABX9TyMIh+FXl8L6cHh8zf8I21L1",
      "include_colab_link": true
    },
    "kernelspec": {
      "name": "python3",
      "display_name": "Python 3"
    },
    "language_info": {
      "name": "python"
    }
  },
  "cells": [
    {
      "cell_type": "markdown",
      "metadata": {
        "id": "view-in-github",
        "colab_type": "text"
      },
      "source": [
        "<a href=\"https://colab.research.google.com/github/dalgual/classes/blob/main/linked_list2.ipynb\" target=\"_parent\"><img src=\"https://colab.research.google.com/assets/colab-badge.svg\" alt=\"Open In Colab\"/></a>"
      ]
    },
    {
      "cell_type": "markdown",
      "source": [
        "## Linked List Example Advanced\n",
        "### Jongwook Woo, jwoo5@calstatela.edu\n",
        "Date: 06/06/2022\n",
        "\n",
        "### References\n",
        "1. https://realpython.com/linked-lists-python/#practical-applications\n",
        "1. https://www.programiz.com/dsa/linked-list"
      ],
      "metadata": {
        "id": "hm3NgktYI6Xa"
      }
    },
    {
      "cell_type": "markdown",
      "source": [
        "## How to Insert a New Node\n",
        "1. Inserting at the Beginning\n",
        "1. Inserting at the End\n",
        "1. Inserting Between Two Nodes"
      ],
      "metadata": {
        "id": "Onoorw6BJRwx"
      }
    },
    {
      "cell_type": "code",
      "source": [
        "class Node:\n",
        "  def __init__(self, data):\n",
        "    self.data = data\n",
        "    self.next = None\n",
        "  \n",
        "  # have a more helpful representation\n",
        "  def __repr__(self):\n",
        "    return self.data"
      ],
      "metadata": {
        "id": "4pGFQs-jJoqW"
      },
      "execution_count": 7,
      "outputs": []
    },
    {
      "cell_type": "code",
      "source": [
        "class LinkedList:\n",
        "  def __init__(self, nodes=None):\n",
        "      self.head = None\n",
        "      if nodes is not None:\n",
        "          node = Node(data=nodes.pop(0))\n",
        "          self.head = node\n",
        "          for elem in nodes:\n",
        "              node.next = Node(data=elem)\n",
        "              node = node.next\n",
        "\n",
        "  # have a more helpful representation\n",
        "  def __repr__(self):\n",
        "    node = self.head\n",
        "    nodes = []\n",
        "    while node is not None:\n",
        "        nodes.append(node.data)\n",
        "        node = node.next\n",
        "    nodes.append(\"None\")\n",
        "    return \" -> \".join(nodes)\n",
        "\n",
        "  # Traverse a Linked List\n",
        "  def __iter__(self):\n",
        "      node = self.head\n",
        "      while node is not None:\n",
        "          yield node\n",
        "          node = node.next\n",
        "\n",
        "  # Inserting a node at the Beginning\n",
        "  def add_first(self, node):\n",
        "      node.next = self.head\n",
        "      self.head = node\n",
        "\n",
        "  # Inserting a node at the End\n",
        "  def add_last(self, node):\n",
        "      if self.head is None:\n",
        "          self.head = node\n",
        "          return\n",
        "      for current_node in self:\n",
        "          pass\n",
        "      current_node.next = node\n",
        "\n",
        "  # Inserting Between Two Nodes\n",
        "  def add_after(self, target_node_data, new_node):\n",
        "      if self.head is None:\n",
        "          raise Exception(\"List is empty\")\n",
        "\n",
        "      for node in self:\n",
        "          if node.data == target_node_data:\n",
        "              new_node.next = node.next\n",
        "              node.next = new_node\n",
        "              return\n",
        "\n",
        "      raise Exception(\"Node with data '%s' not found\" % target_node_data)"
      ],
      "metadata": {
        "id": "1I_ygXvnJLDz"
      },
      "execution_count": 14,
      "outputs": []
    },
    {
      "cell_type": "code",
      "source": [
        "llst = LinkedList()\n",
        "print(repr(llst))"
      ],
      "metadata": {
        "colab": {
          "base_uri": "https://localhost:8080/"
        },
        "id": "Jda_xrvWJIqw",
        "outputId": "e4e2be9f-b7be-4ed4-cbec-67e3b63711e4"
      },
      "execution_count": 15,
      "outputs": [
        {
          "output_type": "stream",
          "name": "stdout",
          "text": [
            "None\n"
          ]
        }
      ]
    },
    {
      "cell_type": "code",
      "source": [
        "llst"
      ],
      "metadata": {
        "colab": {
          "base_uri": "https://localhost:8080/"
        },
        "id": "-iGY_x7MKfVf",
        "outputId": "19215dcc-e0c3-47d9-8ed3-7725393a5e92"
      },
      "execution_count": 16,
      "outputs": [
        {
          "output_type": "execute_result",
          "data": {
            "text/plain": [
              "None"
            ]
          },
          "metadata": {},
          "execution_count": 16
        }
      ]
    },
    {
      "cell_type": "code",
      "source": [
        "llist = LinkedList([\"a\", \"b\", \"c\", \"d\", \"e\"])\n",
        "llist"
      ],
      "metadata": {
        "colab": {
          "base_uri": "https://localhost:8080/"
        },
        "id": "izG8I43pJFj3",
        "outputId": "5115dafd-4266-4a6b-bce5-a7c18ffd2bf9"
      },
      "execution_count": 17,
      "outputs": [
        {
          "output_type": "execute_result",
          "data": {
            "text/plain": [
              "a -> b -> c -> d -> e -> None"
            ]
          },
          "metadata": {},
          "execution_count": 17
        }
      ]
    },
    {
      "cell_type": "markdown",
      "source": [
        "### Test Inserting at the Begining"
      ],
      "metadata": {
        "id": "1up0s_IWMt32"
      }
    },
    {
      "cell_type": "code",
      "source": [
        "# Inserting at the Begining\n",
        "llist = LinkedList()\n",
        "llist"
      ],
      "metadata": {
        "colab": {
          "base_uri": "https://localhost:8080/"
        },
        "id": "zBqRnKZ_MWIa",
        "outputId": "2242619b-a9d4-43f6-81f2-0a1b483ed062"
      },
      "execution_count": 22,
      "outputs": [
        {
          "output_type": "execute_result",
          "data": {
            "text/plain": [
              "None"
            ]
          },
          "metadata": {},
          "execution_count": 22
        }
      ]
    },
    {
      "cell_type": "code",
      "source": [
        "llist.add_first(Node(\"b\"))\n",
        "llist"
      ],
      "metadata": {
        "colab": {
          "base_uri": "https://localhost:8080/"
        },
        "id": "mRVcntsyMz5A",
        "outputId": "0f31255d-0c26-4ef1-be41-deee1d3d4fe9"
      },
      "execution_count": 23,
      "outputs": [
        {
          "output_type": "execute_result",
          "data": {
            "text/plain": [
              "b -> None"
            ]
          },
          "metadata": {},
          "execution_count": 23
        }
      ]
    },
    {
      "cell_type": "code",
      "source": [
        "llist.add_first(Node(\"a\"))\n",
        "llist"
      ],
      "metadata": {
        "colab": {
          "base_uri": "https://localhost:8080/"
        },
        "id": "BUgecZtaMzrU",
        "outputId": "269fb565-e993-4f6d-ec9f-3cd09bc60778"
      },
      "execution_count": 24,
      "outputs": [
        {
          "output_type": "execute_result",
          "data": {
            "text/plain": [
              "a -> b -> None"
            ]
          },
          "metadata": {},
          "execution_count": 24
        }
      ]
    },
    {
      "cell_type": "markdown",
      "source": [
        "### Inserting at the End"
      ],
      "metadata": {
        "id": "4tPLdkZ1M741"
      }
    },
    {
      "cell_type": "code",
      "source": [
        "# Inserting at the End\n",
        "llist = LinkedList([\"a\", \"b\"])\n",
        "llist"
      ],
      "metadata": {
        "colab": {
          "base_uri": "https://localhost:8080/"
        },
        "id": "VekjireKJCg4",
        "outputId": "64455399-c078-4e74-8571-5f7eb1847745"
      },
      "execution_count": 26,
      "outputs": [
        {
          "output_type": "execute_result",
          "data": {
            "text/plain": [
              "a -> b -> None"
            ]
          },
          "metadata": {},
          "execution_count": 26
        }
      ]
    },
    {
      "cell_type": "code",
      "source": [
        "llist.add_last(Node(\"c\"))\n",
        "llist"
      ],
      "metadata": {
        "colab": {
          "base_uri": "https://localhost:8080/"
        },
        "id": "d5HY-AN1NFBl",
        "outputId": "357cfc1c-c10e-48b0-e1b0-308a1b4cc26e"
      },
      "execution_count": 27,
      "outputs": [
        {
          "output_type": "execute_result",
          "data": {
            "text/plain": [
              "a -> b -> c -> None"
            ]
          },
          "metadata": {},
          "execution_count": 27
        }
      ]
    },
    {
      "cell_type": "code",
      "source": [
        "llist.add_last(Node(\"d\"))\n",
        "llist"
      ],
      "metadata": {
        "colab": {
          "base_uri": "https://localhost:8080/"
        },
        "id": "LUgJFDvoNQ7c",
        "outputId": "5fe230c9-37fa-49eb-a0d7-640ff03f87a2"
      },
      "execution_count": 28,
      "outputs": [
        {
          "output_type": "execute_result",
          "data": {
            "text/plain": [
              "a -> b -> c -> d -> None"
            ]
          },
          "metadata": {},
          "execution_count": 28
        }
      ]
    },
    {
      "cell_type": "markdown",
      "source": [
        "### Inserting between two nodes"
      ],
      "metadata": {
        "id": "y2wo8AjGNVfX"
      }
    },
    {
      "cell_type": "code",
      "source": [
        "# Inserting between two nodes"
      ],
      "metadata": {
        "id": "CJFqqCkKMY9p"
      },
      "execution_count": 20,
      "outputs": []
    },
    {
      "cell_type": "code",
      "execution_count": 29,
      "metadata": {
        "colab": {
          "base_uri": "https://localhost:8080/"
        },
        "id": "LEUMVkRvI0DZ",
        "outputId": "f7f45903-e98a-4422-83f8-362c90d0ec0c"
      },
      "outputs": [
        {
          "output_type": "execute_result",
          "data": {
            "text/plain": [
              "a -> c -> e -> None"
            ]
          },
          "metadata": {},
          "execution_count": 29
        }
      ],
      "source": [
        "linked_list = LinkedList([\"a\", \"c\", \"e\"])\n",
        "linked_list\n"
      ]
    },
    {
      "cell_type": "code",
      "source": [
        "linked_list.add_after(\"a\", Node(\"b\"))\n",
        "linked_list"
      ],
      "metadata": {
        "colab": {
          "base_uri": "https://localhost:8080/"
        },
        "id": "zbAw9wr0NnYj",
        "outputId": "b6c28f03-526c-4bf0-ec2b-72a4128058f1"
      },
      "execution_count": 30,
      "outputs": [
        {
          "output_type": "execute_result",
          "data": {
            "text/plain": [
              "a -> b -> c -> e -> None"
            ]
          },
          "metadata": {},
          "execution_count": 30
        }
      ]
    },
    {
      "cell_type": "code",
      "source": [
        "linked_list.add_after(\"c\", Node(\"d\"))\n",
        "linked_list"
      ],
      "metadata": {
        "colab": {
          "base_uri": "https://localhost:8080/"
        },
        "id": "OqzpBl4oNv6s",
        "outputId": "704bb0eb-1761-49d1-aad2-c88b8fbd0f1f"
      },
      "execution_count": 31,
      "outputs": [
        {
          "output_type": "execute_result",
          "data": {
            "text/plain": [
              "a -> b -> c -> d -> e -> None"
            ]
          },
          "metadata": {},
          "execution_count": 31
        }
      ]
    }
  ]
}